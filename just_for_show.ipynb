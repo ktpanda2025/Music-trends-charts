{
 "cells": [
  {
   "cell_type": "code",
   "execution_count": 1,
   "metadata": {},
   "outputs": [],
   "source": [
    "from graph_mod import Spotify_Chart_Maker,YT_Chart_Maker\n"
   ]
  },
  {
   "cell_type": "code",
   "execution_count": 5,
   "metadata": {},
   "outputs": [
    {
     "name": "stderr",
     "output_type": "stream",
     "text": [
      "/Users/kevintorres/Desktop/GitHub/Music-trends-charts/graph_mod.py:70: SettingWithCopyWarning:\n",
      "\n",
      "\n",
      "A value is trying to be set on a copy of a slice from a DataFrame.\n",
      "Try using .loc[row_indexer,col_indexer] = value instead\n",
      "\n",
      "See the caveats in the documentation: https://pandas.pydata.org/pandas-docs/stable/user_guide/indexing.html#returning-a-view-versus-a-copy\n",
      "\n"
     ]
    },
    {
     "data": {
      "application/vnd.plotly.v1+json": {
       "config": {
        "plotlyServerURL": "https://plot.ly"
       },
       "data": [
        {
         "hovertemplate": "track_name=Wasted On You<br>WeekDate=%{x}<br>ViewCount=%{y}<extra></extra>",
         "legendgroup": "Wasted On You",
         "line": {
          "color": "#636efa",
          "dash": "solid"
         },
         "marker": {
          "symbol": "circle"
         },
         "mode": "lines+markers",
         "name": "Wasted On You",
         "orientation": "v",
         "showlegend": true,
         "type": "scatter",
         "x": [
          "2024-02-01T00:00:00",
          "2024-01-25T00:00:00",
          "2024-01-04T00:00:00",
          "2021-12-23T00:00:00",
          "2021-12-09T00:00:00",
          "2021-05-27T00:00:00",
          "2021-05-20T00:00:00",
          "2021-05-13T00:00:00",
          "2021-05-06T00:00:00",
          "2021-04-29T00:00:00",
          "2021-04-22T00:00:00",
          "2021-04-15T00:00:00",
          "2021-04-08T00:00:00",
          "2021-04-01T00:00:00",
          "2021-03-25T00:00:00",
          "2021-03-18T00:00:00",
          "2021-03-11T00:00:00",
          "2021-03-04T00:00:00",
          "2021-02-25T00:00:00",
          "2021-02-18T00:00:00",
          "2021-02-11T00:00:00",
          "2021-02-04T00:00:00",
          "2021-01-28T00:00:00",
          "2021-01-21T00:00:00",
          "2021-01-14T00:00:00"
         ],
         "xaxis": "x",
         "y": [
          2533868,
          2569555,
          2493192,
          1651321,
          1529649,
          1563843,
          1616278,
          1586372,
          1680755,
          1703354,
          1813806,
          1807375,
          1824642,
          1942808,
          1977812,
          1909119,
          2137926,
          2178093,
          2198914,
          2015454,
          2403032,
          2172849,
          1963573,
          2189785,
          2036135
         ],
         "yaxis": "y"
        },
        {
         "hovertemplate": "track_name=Thinkin’ Bout Me<br>WeekDate=%{x}<br>ViewCount=%{y}<extra></extra>",
         "legendgroup": "Thinkin’ Bout Me",
         "line": {
          "color": "#EF553B",
          "dash": "solid"
         },
         "marker": {
          "symbol": "circle"
         },
         "mode": "lines+markers",
         "name": "Thinkin’ Bout Me",
         "orientation": "v",
         "showlegend": true,
         "type": "scatter",
         "x": [
          "2024-02-01T00:00:00",
          "2024-01-25T00:00:00",
          "2024-01-18T00:00:00",
          "2024-01-11T00:00:00",
          "2024-01-04T00:00:00",
          "2023-12-28T00:00:00",
          "2023-12-21T00:00:00",
          "2023-12-14T00:00:00",
          "2023-12-07T00:00:00",
          "2023-11-30T00:00:00",
          "2023-11-23T00:00:00",
          "2023-11-16T00:00:00",
          "2023-11-09T00:00:00",
          "2023-11-02T00:00:00",
          "2023-10-26T00:00:00",
          "2023-10-19T00:00:00",
          "2023-10-12T00:00:00",
          "2023-10-05T00:00:00",
          "2023-09-28T00:00:00",
          "2023-09-21T00:00:00",
          "2023-09-14T00:00:00",
          "2023-09-07T00:00:00",
          "2023-08-31T00:00:00",
          "2023-08-24T00:00:00",
          "2023-07-20T00:00:00",
          "2023-07-13T00:00:00",
          "2023-07-06T00:00:00",
          "2023-06-29T00:00:00",
          "2023-06-22T00:00:00",
          "2023-06-15T00:00:00",
          "2023-06-08T00:00:00",
          "2023-06-01T00:00:00",
          "2023-05-25T00:00:00",
          "2023-05-18T00:00:00",
          "2023-05-11T00:00:00",
          "2023-05-04T00:00:00",
          "2023-04-27T00:00:00",
          "2023-04-20T00:00:00",
          "2023-04-13T00:00:00",
          "2023-04-06T00:00:00",
          "2023-03-30T00:00:00",
          "2023-03-23T00:00:00",
          "2023-03-16T00:00:00",
          "2023-03-09T00:00:00"
         ],
         "xaxis": "x",
         "y": [
          2866971,
          2811847,
          2522124,
          2435505,
          2799147,
          2156298,
          1949021,
          2056002,
          2085714,
          1962761,
          2334502,
          2256803,
          2285753,
          2160848,
          2180345,
          2138027,
          2039684,
          2024655,
          2024336,
          1897441,
          1936450,
          1850800,
          1805688,
          1749041,
          1957246,
          1871818,
          1876379,
          1845550,
          1871926,
          1865655,
          1942346,
          1848665,
          2044513,
          2021023,
          2168921,
          2026412,
          2085703,
          2155440,
          2299930,
          2119102,
          2151122,
          2271047,
          2244461,
          2708450
         ],
         "yaxis": "y"
        },
        {
         "hovertemplate": "track_name=Last Night<br>WeekDate=%{x}<br>ViewCount=%{y}<extra></extra>",
         "legendgroup": "Last Night",
         "line": {
          "color": "#00cc96",
          "dash": "solid"
         },
         "marker": {
          "symbol": "circle"
         },
         "mode": "lines+markers",
         "name": "Last Night",
         "orientation": "v",
         "showlegend": true,
         "type": "scatter",
         "x": [
          "2024-01-25T00:00:00",
          "2024-01-18T00:00:00",
          "2024-01-11T00:00:00",
          "2024-01-04T00:00:00",
          "2023-12-28T00:00:00",
          "2023-12-21T00:00:00",
          "2023-12-14T00:00:00",
          "2023-12-07T00:00:00",
          "2023-11-30T00:00:00",
          "2023-11-23T00:00:00",
          "2023-11-16T00:00:00",
          "2023-11-09T00:00:00",
          "2023-11-02T00:00:00",
          "2023-10-26T00:00:00",
          "2023-10-19T00:00:00",
          "2023-10-12T00:00:00",
          "2023-10-05T00:00:00",
          "2023-09-28T00:00:00",
          "2023-09-21T00:00:00",
          "2023-09-14T00:00:00",
          "2023-09-07T00:00:00",
          "2023-08-31T00:00:00",
          "2023-08-24T00:00:00",
          "2023-08-17T00:00:00",
          "2023-08-10T00:00:00",
          "2023-08-03T00:00:00",
          "2023-07-27T00:00:00",
          "2023-07-20T00:00:00",
          "2023-07-13T00:00:00",
          "2023-07-06T00:00:00",
          "2023-06-29T00:00:00",
          "2023-06-22T00:00:00",
          "2023-06-15T00:00:00",
          "2023-06-08T00:00:00",
          "2023-06-01T00:00:00",
          "2023-05-25T00:00:00",
          "2023-05-18T00:00:00",
          "2023-05-11T00:00:00",
          "2023-05-04T00:00:00",
          "2023-04-27T00:00:00",
          "2023-04-20T00:00:00",
          "2023-04-13T00:00:00",
          "2023-04-06T00:00:00",
          "2023-03-30T00:00:00",
          "2023-03-23T00:00:00",
          "2023-03-16T00:00:00",
          "2023-03-09T00:00:00",
          "2023-03-02T00:00:00",
          "2023-02-23T00:00:00",
          "2023-02-16T00:00:00",
          "2023-02-09T00:00:00",
          "2023-02-02T00:00:00"
         ],
         "xaxis": "x",
         "y": [
          2858571,
          2735063,
          2809574,
          2976856,
          2916687,
          2697456,
          2973797,
          3065495,
          2700689,
          3155130,
          2941587,
          2940606,
          2938521,
          3132162,
          2962282,
          3230700,
          3508019,
          3414404,
          3202483,
          3590395,
          3586909,
          3729991,
          3977072,
          4002388,
          4046142,
          4168375,
          4475638,
          4699741,
          4401169,
          4529897,
          4553947,
          4852263,
          4749136,
          5278766,
          4968007,
          5636499,
          5011622,
          6448745,
          5884576,
          6070888,
          5823968,
          6180469,
          5904377,
          5924469,
          5664835,
          5843361,
          6376431,
          4698459,
          3311295,
          3160981,
          3009560,
          1222829
         ],
         "yaxis": "y"
        },
        {
         "hovertemplate": "track_name=Whiskey Glasses<br>WeekDate=%{x}<br>ViewCount=%{y}<extra></extra>",
         "legendgroup": "Whiskey Glasses",
         "line": {
          "color": "#ab63fa",
          "dash": "solid"
         },
         "marker": {
          "symbol": "circle"
         },
         "mode": "lines+markers",
         "name": "Whiskey Glasses",
         "orientation": "v",
         "showlegend": true,
         "type": "scatter",
         "x": [
          "2024-01-11T00:00:00",
          "2020-05-07T00:00:00",
          "2020-02-27T00:00:00",
          "2020-02-20T00:00:00",
          "2020-01-30T00:00:00",
          "2020-01-02T00:00:00"
         ],
         "xaxis": "x",
         "y": [
          1327613,
          2533541,
          2143166,
          1902166,
          1619447,
          1625421
         ],
         "yaxis": "y"
        },
        {
         "hovertemplate": "track_name=Cowgirls (feat. ERNEST)<br>WeekDate=%{x}<br>ViewCount=%{y}<extra></extra>",
         "legendgroup": "Cowgirls (feat. ERNEST)",
         "line": {
          "color": "#FFA15A",
          "dash": "solid"
         },
         "marker": {
          "symbol": "circle"
         },
         "mode": "lines+markers",
         "name": "Cowgirls (feat. ERNEST)",
         "orientation": "v",
         "showlegend": true,
         "type": "scatter",
         "x": [
          "2023-09-28T00:00:00",
          "2023-09-14T00:00:00",
          "2023-09-07T00:00:00",
          "2023-08-31T00:00:00",
          "2023-08-17T00:00:00",
          "2023-07-27T00:00:00",
          "2023-07-20T00:00:00",
          "2023-07-13T00:00:00",
          "2023-06-08T00:00:00",
          "2023-05-25T00:00:00",
          "2023-05-11T00:00:00",
          "2023-05-04T00:00:00",
          "2023-04-27T00:00:00",
          "2023-04-20T00:00:00",
          "2023-04-13T00:00:00",
          "2023-04-06T00:00:00",
          "2023-03-30T00:00:00",
          "2023-03-23T00:00:00",
          "2023-03-16T00:00:00",
          "2023-03-09T00:00:00"
         ],
         "xaxis": "x",
         "y": [
          1093351,
          1154713,
          1110646,
          1044894,
          1056603,
          1190279,
          1198426,
          1107726,
          1165795,
          1195429,
          1228790,
          1138592,
          1277062,
          1224949,
          1276497,
          1248258,
          1212460,
          1135443,
          1135652,
          1234098
         ],
         "yaxis": "y"
        },
        {
         "hovertemplate": "track_name=Stand By Me (feat. Morgan Wallen)<br>WeekDate=%{x}<br>ViewCount=%{y}<extra></extra>",
         "legendgroup": "Stand By Me (feat. Morgan Wallen)",
         "line": {
          "color": "#19d3f3",
          "dash": "solid"
         },
         "marker": {
          "symbol": "circle"
         },
         "mode": "lines+markers",
         "name": "Stand By Me (feat. Morgan Wallen)",
         "orientation": "v",
         "showlegend": true,
         "type": "scatter",
         "x": [
          "2023-07-13T00:00:00",
          "2023-06-29T00:00:00",
          "2023-06-22T00:00:00",
          "2023-06-15T00:00:00",
          "2023-06-08T00:00:00",
          "2023-06-01T00:00:00"
         ],
         "xaxis": "x",
         "y": [
          1107891,
          1246994,
          1215691,
          1335328,
          1487198,
          1814056
         ],
         "yaxis": "y"
        },
        {
         "hovertemplate": "track_name=Chasin' You<br>WeekDate=%{x}<br>ViewCount=%{y}<extra></extra>",
         "legendgroup": "Chasin' You",
         "line": {
          "color": "#FF6692",
          "dash": "solid"
         },
         "marker": {
          "symbol": "circle"
         },
         "mode": "lines+markers",
         "name": "Chasin' You",
         "orientation": "v",
         "showlegend": true,
         "type": "scatter",
         "x": [
          "2023-06-22T00:00:00",
          "2023-04-27T00:00:00",
          "2023-04-13T00:00:00",
          "2021-02-18T00:00:00",
          "2021-02-11T00:00:00"
         ],
         "xaxis": "x",
         "y": [
          1144636,
          1142009,
          1098314,
          1300689,
          1565730
         ],
         "yaxis": "y"
        },
        {
         "hovertemplate": "track_name=Thought You Should Know<br>WeekDate=%{x}<br>ViewCount=%{y}<extra></extra>",
         "legendgroup": "Thought You Should Know",
         "line": {
          "color": "#B6E880",
          "dash": "solid"
         },
         "marker": {
          "symbol": "circle"
         },
         "mode": "lines+markers",
         "name": "Thought You Should Know",
         "orientation": "v",
         "showlegend": true,
         "type": "scatter",
         "x": [
          "2023-06-01T00:00:00",
          "2023-05-25T00:00:00",
          "2023-05-18T00:00:00",
          "2023-05-11T00:00:00",
          "2023-05-04T00:00:00",
          "2023-04-27T00:00:00",
          "2023-04-20T00:00:00",
          "2023-04-13T00:00:00",
          "2023-04-06T00:00:00",
          "2023-03-30T00:00:00",
          "2023-03-23T00:00:00",
          "2023-03-16T00:00:00",
          "2023-03-09T00:00:00",
          "2023-03-02T00:00:00",
          "2023-02-23T00:00:00",
          "2023-02-16T00:00:00",
          "2023-02-09T00:00:00",
          "2023-02-02T00:00:00",
          "2023-01-26T00:00:00",
          "2023-01-19T00:00:00",
          "2023-01-12T00:00:00",
          "2023-01-05T00:00:00",
          "2022-12-22T00:00:00",
          "2022-12-15T00:00:00",
          "2022-12-08T00:00:00",
          "2022-12-01T00:00:00",
          "2022-11-24T00:00:00",
          "2022-10-20T00:00:00",
          "2022-10-13T00:00:00",
          "2022-10-06T00:00:00",
          "2022-09-29T00:00:00",
          "2022-09-15T00:00:00",
          "2022-09-01T00:00:00",
          "2022-08-25T00:00:00",
          "2022-08-18T00:00:00",
          "2022-08-11T00:00:00",
          "2022-07-28T00:00:00",
          "2022-07-14T00:00:00",
          "2022-07-07T00:00:00",
          "2022-06-30T00:00:00",
          "2022-06-23T00:00:00",
          "2022-06-16T00:00:00",
          "2022-06-09T00:00:00",
          "2022-06-02T00:00:00",
          "2022-05-26T00:00:00",
          "2022-05-19T00:00:00",
          "2022-05-12T00:00:00"
         ],
         "xaxis": "x",
         "y": [
          2049431,
          1926956,
          2085115,
          2016102,
          2255221,
          2241283,
          2379664,
          2571778,
          2514360,
          2517114,
          2538898,
          2551530,
          2789501,
          2126900,
          1903555,
          1951675,
          1883544,
          1791377,
          1793179,
          1740728,
          1801175,
          1866024,
          1771554,
          1777444,
          1867117,
          1936272,
          1431457,
          1181801,
          1206891,
          1163368,
          1178207,
          1118997,
          1160240,
          1227977,
          1243679,
          1123768,
          1131248,
          1226127,
          1234500,
          1334107,
          1323440,
          1322917,
          1431628,
          1440823,
          1521655,
          1829635,
          2259943
         ],
         "yaxis": "y"
        },
        {
         "hovertemplate": "track_name=You Proof<br>WeekDate=%{x}<br>ViewCount=%{y}<extra></extra>",
         "legendgroup": "You Proof",
         "line": {
          "color": "#FF97FF",
          "dash": "solid"
         },
         "marker": {
          "symbol": "circle"
         },
         "mode": "lines+markers",
         "name": "You Proof",
         "orientation": "v",
         "showlegend": true,
         "type": "scatter",
         "x": [
          "2023-05-11T00:00:00",
          "2023-04-13T00:00:00",
          "2023-04-06T00:00:00",
          "2023-03-30T00:00:00",
          "2023-03-23T00:00:00",
          "2023-03-16T00:00:00",
          "2023-03-09T00:00:00",
          "2023-02-09T00:00:00",
          "2023-02-02T00:00:00",
          "2023-01-26T00:00:00",
          "2023-01-19T00:00:00",
          "2023-01-12T00:00:00",
          "2023-01-05T00:00:00",
          "2022-12-29T00:00:00",
          "2022-12-22T00:00:00",
          "2022-12-15T00:00:00",
          "2022-12-08T00:00:00",
          "2022-12-01T00:00:00",
          "2022-11-24T00:00:00",
          "2022-11-17T00:00:00",
          "2022-11-10T00:00:00",
          "2022-11-03T00:00:00",
          "2022-10-27T00:00:00",
          "2022-10-20T00:00:00",
          "2022-10-13T00:00:00",
          "2022-10-06T00:00:00",
          "2022-09-29T00:00:00",
          "2022-09-22T00:00:00",
          "2022-09-15T00:00:00",
          "2022-09-08T00:00:00",
          "2022-09-01T00:00:00",
          "2022-08-25T00:00:00",
          "2022-08-18T00:00:00",
          "2022-08-11T00:00:00",
          "2022-08-04T00:00:00",
          "2022-07-28T00:00:00",
          "2022-07-21T00:00:00",
          "2022-07-14T00:00:00",
          "2022-07-07T00:00:00",
          "2022-06-30T00:00:00",
          "2022-06-23T00:00:00",
          "2022-06-16T00:00:00",
          "2022-06-09T00:00:00",
          "2022-06-02T00:00:00",
          "2022-05-26T00:00:00",
          "2022-05-19T00:00:00"
         ],
         "xaxis": "x",
         "y": [
          1636252,
          2070060,
          1861178,
          1858238,
          1869614,
          2070973,
          2417667,
          1780546,
          1842843,
          1810345,
          1974651,
          1980024,
          2053804,
          1975325,
          1947196,
          1913060,
          1980389,
          1920780,
          2091802,
          1943774,
          2236978,
          2218325,
          2477853,
          2173959,
          2238742,
          2337652,
          2390693,
          2569974,
          2555485,
          1627698,
          1541587,
          1489656,
          1420322,
          1422303,
          1366256,
          1301133,
          1367955,
          1410222,
          1444365,
          1548943,
          1507142,
          1579867,
          1955082,
          1897443,
          2003639,
          2393523
         ],
         "yaxis": "y"
        },
        {
         "hovertemplate": "track_name=I Wrote The Book<br>WeekDate=%{x}<br>ViewCount=%{y}<extra></extra>",
         "legendgroup": "I Wrote The Book",
         "line": {
          "color": "#FECB52",
          "dash": "solid"
         },
         "marker": {
          "symbol": "circle"
         },
         "mode": "lines+markers",
         "name": "I Wrote The Book",
         "orientation": "v",
         "showlegend": true,
         "type": "scatter",
         "x": [
          "2023-03-16T00:00:00",
          "2023-03-09T00:00:00",
          "2023-02-09T00:00:00"
         ],
         "xaxis": "x",
         "y": [
          1212134,
          1495391,
          1246937
         ],
         "yaxis": "y"
        },
        {
         "hovertemplate": "track_name=Everything I Love<br>WeekDate=%{x}<br>ViewCount=%{y}<extra></extra>",
         "legendgroup": "Everything I Love",
         "line": {
          "color": "#636efa",
          "dash": "solid"
         },
         "marker": {
          "symbol": "circle"
         },
         "mode": "lines+markers",
         "name": "Everything I Love",
         "orientation": "v",
         "showlegend": true,
         "type": "scatter",
         "x": [
          "2023-03-09T00:00:00"
         ],
         "xaxis": "x",
         "y": [
          1221579
         ],
         "yaxis": "y"
        },
        {
         "hovertemplate": "track_name=Sunrise<br>WeekDate=%{x}<br>ViewCount=%{y}<extra></extra>",
         "legendgroup": "Sunrise",
         "line": {
          "color": "#EF553B",
          "dash": "solid"
         },
         "marker": {
          "symbol": "circle"
         },
         "mode": "lines+markers",
         "name": "Sunrise",
         "orientation": "v",
         "showlegend": true,
         "type": "scatter",
         "x": [
          "2023-03-09T00:00:00"
         ],
         "xaxis": "x",
         "y": [
          1225447
         ],
         "yaxis": "y"
        },
        {
         "hovertemplate": "track_name=Born With A Beer In My Hand<br>WeekDate=%{x}<br>ViewCount=%{y}<extra></extra>",
         "legendgroup": "Born With A Beer In My Hand",
         "line": {
          "color": "#00cc96",
          "dash": "solid"
         },
         "marker": {
          "symbol": "circle"
         },
         "mode": "lines+markers",
         "name": "Born With A Beer In My Hand",
         "orientation": "v",
         "showlegend": true,
         "type": "scatter",
         "x": [
          "2023-03-09T00:00:00"
         ],
         "xaxis": "x",
         "y": [
          1214712
         ],
         "yaxis": "y"
        },
        {
         "hovertemplate": "track_name=One Thing At A Time<br>WeekDate=%{x}<br>ViewCount=%{y}<extra></extra>",
         "legendgroup": "One Thing At A Time",
         "line": {
          "color": "#ab63fa",
          "dash": "solid"
         },
         "marker": {
          "symbol": "circle"
         },
         "mode": "lines+markers",
         "name": "One Thing At A Time",
         "orientation": "v",
         "showlegend": true,
         "type": "scatter",
         "x": [
          "2023-03-09T00:00:00"
         ],
         "xaxis": "x",
         "y": [
          1163330
         ],
         "yaxis": "y"
        },
        {
         "hovertemplate": "track_name=Man Made A Bar<br>WeekDate=%{x}<br>ViewCount=%{y}<extra></extra>",
         "legendgroup": "Man Made A Bar",
         "line": {
          "color": "#FFA15A",
          "dash": "solid"
         },
         "marker": {
          "symbol": "circle"
         },
         "mode": "lines+markers",
         "name": "Man Made A Bar",
         "orientation": "v",
         "showlegend": true,
         "type": "scatter",
         "x": [
          "2023-03-09T00:00:00"
         ],
         "xaxis": "x",
         "y": [
          1421873
         ],
         "yaxis": "y"
        },
        {
         "hovertemplate": "track_name=Ain’t That Some<br>WeekDate=%{x}<br>ViewCount=%{y}<extra></extra>",
         "legendgroup": "Ain’t That Some",
         "line": {
          "color": "#19d3f3",
          "dash": "solid"
         },
         "marker": {
          "symbol": "circle"
         },
         "mode": "lines+markers",
         "name": "Ain’t That Some",
         "orientation": "v",
         "showlegend": true,
         "type": "scatter",
         "x": [
          "2023-03-09T00:00:00"
         ],
         "xaxis": "x",
         "y": [
          1393800
         ],
         "yaxis": "y"
        },
        {
         "hovertemplate": "track_name=Devil Don’t Know<br>WeekDate=%{x}<br>ViewCount=%{y}<extra></extra>",
         "legendgroup": "Devil Don’t Know",
         "line": {
          "color": "#FF6692",
          "dash": "solid"
         },
         "marker": {
          "symbol": "circle"
         },
         "mode": "lines+markers",
         "name": "Devil Don’t Know",
         "orientation": "v",
         "showlegend": true,
         "type": "scatter",
         "x": [
          "2023-03-09T00:00:00"
         ],
         "xaxis": "x",
         "y": [
          1358354
         ],
         "yaxis": "y"
        },
        {
         "hovertemplate": "track_name=Broadway Girls (feat. Morgan Wallen)<br>WeekDate=%{x}<br>ViewCount=%{y}<extra></extra>",
         "legendgroup": "Broadway Girls (feat. Morgan Wallen)",
         "line": {
          "color": "#B6E880",
          "dash": "solid"
         },
         "marker": {
          "symbol": "circle"
         },
         "mode": "lines+markers",
         "name": "Broadway Girls (feat. Morgan Wallen)",
         "orientation": "v",
         "showlegend": true,
         "type": "scatter",
         "x": [
          "2022-12-08T00:00:00",
          "2022-07-14T00:00:00",
          "2022-06-30T00:00:00",
          "2022-06-23T00:00:00",
          "2022-06-16T00:00:00",
          "2022-06-09T00:00:00",
          "2022-06-02T00:00:00",
          "2022-05-26T00:00:00",
          "2022-05-19T00:00:00",
          "2022-05-12T00:00:00",
          "2022-05-05T00:00:00",
          "2022-04-28T00:00:00",
          "2022-04-21T00:00:00",
          "2022-04-14T00:00:00",
          "2022-04-07T00:00:00",
          "2022-03-31T00:00:00",
          "2022-03-24T00:00:00",
          "2022-03-17T00:00:00",
          "2022-03-10T00:00:00",
          "2022-03-03T00:00:00",
          "2022-02-24T00:00:00",
          "2022-02-17T00:00:00",
          "2022-02-10T00:00:00",
          "2022-02-03T00:00:00",
          "2022-01-27T00:00:00",
          "2022-01-20T00:00:00",
          "2022-01-13T00:00:00",
          "2022-01-06T00:00:00",
          "2021-12-30T00:00:00",
          "2021-12-23T00:00:00"
         ],
         "xaxis": "x",
         "y": [
          1142446,
          1716765,
          1769118,
          1888039,
          1850950,
          2064333,
          1966740,
          1869142,
          2014622,
          2156496,
          2283664,
          2117590,
          1858172,
          2003017,
          2091357,
          2218479,
          2493021,
          2489586,
          2116247,
          2165056,
          2187470,
          2289191,
          2486991,
          2629402,
          2784180,
          2915924,
          3115588,
          3740566,
          4320444,
          4733764
         ],
         "yaxis": "y"
        },
        {
         "hovertemplate": "track_name=Don't Think Jesus<br>WeekDate=%{x}<br>ViewCount=%{y}<extra></extra>",
         "legendgroup": "Don't Think Jesus",
         "line": {
          "color": "#FF97FF",
          "dash": "solid"
         },
         "marker": {
          "symbol": "circle"
         },
         "mode": "lines+markers",
         "name": "Don't Think Jesus",
         "orientation": "v",
         "showlegend": true,
         "type": "scatter",
         "x": [
          "2022-04-28T00:00:00",
          "2022-04-21T00:00:00"
         ],
         "xaxis": "x",
         "y": [
          1373260,
          2462392
         ],
         "yaxis": "y"
        },
        {
         "hovertemplate": "track_name=Broadway Girls (Remix) (feat. Morgan Wallen)<br>WeekDate=%{x}<br>ViewCount=%{y}<extra></extra>",
         "legendgroup": "Broadway Girls (Remix) (feat. Morgan Wallen)",
         "line": {
          "color": "#FECB52",
          "dash": "solid"
         },
         "marker": {
          "symbol": "circle"
         },
         "mode": "lines+markers",
         "name": "Broadway Girls (Remix) (feat. Morgan Wallen)",
         "orientation": "v",
         "showlegend": true,
         "type": "scatter",
         "x": [
          "2021-12-30T00:00:00",
          "2021-12-23T00:00:00"
         ],
         "xaxis": "x",
         "y": [
          1330743,
          1251263
         ],
         "yaxis": "y"
        },
        {
         "hovertemplate": "track_name=Sand in My Boots (Live)<br>WeekDate=%{x}<br>ViewCount=%{y}<extra></extra>",
         "legendgroup": "Sand in My Boots (Live)",
         "line": {
          "color": "#636efa",
          "dash": "solid"
         },
         "marker": {
          "symbol": "circle"
         },
         "mode": "lines+markers",
         "name": "Sand in My Boots (Live)",
         "orientation": "v",
         "showlegend": true,
         "type": "scatter",
         "x": [
          "2021-03-11T00:00:00",
          "2021-03-04T00:00:00",
          "2021-02-25T00:00:00",
          "2021-02-18T00:00:00",
          "2021-02-11T00:00:00",
          "2021-02-04T00:00:00",
          "2021-01-28T00:00:00",
          "2021-01-21T00:00:00",
          "2021-01-14T00:00:00"
         ],
         "xaxis": "x",
         "y": [
          1418339,
          1552506,
          1713200,
          1808068,
          2244642,
          2029687,
          1996433,
          1870259,
          2388979
         ],
         "yaxis": "y"
        },
        {
         "hovertemplate": "track_name=7 Summers<br>WeekDate=%{x}<br>ViewCount=%{y}<extra></extra>",
         "legendgroup": "7 Summers",
         "line": {
          "color": "#EF553B",
          "dash": "solid"
         },
         "marker": {
          "symbol": "circle"
         },
         "mode": "lines+markers",
         "name": "7 Summers",
         "orientation": "v",
         "showlegend": true,
         "type": "scatter",
         "x": [
          "2021-02-18T00:00:00",
          "2021-02-11T00:00:00",
          "2021-02-04T00:00:00",
          "2020-08-27T00:00:00",
          "2020-08-20T00:00:00"
         ],
         "xaxis": "x",
         "y": [
          1363193,
          1737194,
          1530379,
          1529428,
          2757026
         ],
         "yaxis": "y"
        },
        {
         "hovertemplate": "track_name=Cover Me Up<br>WeekDate=%{x}<br>ViewCount=%{y}<extra></extra>",
         "legendgroup": "Cover Me Up",
         "line": {
          "color": "#00cc96",
          "dash": "solid"
         },
         "marker": {
          "symbol": "circle"
         },
         "mode": "lines+markers",
         "name": "Cover Me Up",
         "orientation": "v",
         "showlegend": true,
         "type": "scatter",
         "x": [
          "2021-02-11T00:00:00",
          "2021-01-14T00:00:00",
          "2021-01-07T00:00:00",
          "2020-12-31T00:00:00",
          "2020-12-17T00:00:00",
          "2020-12-10T00:00:00",
          "2020-12-03T00:00:00",
          "2020-11-26T00:00:00",
          "2020-11-19T00:00:00",
          "2020-11-12T00:00:00",
          "2020-11-05T00:00:00",
          "2020-10-29T00:00:00",
          "2020-10-22T00:00:00",
          "2020-10-15T00:00:00",
          "2020-10-08T00:00:00",
          "2020-10-01T00:00:00",
          "2020-09-24T00:00:00",
          "2020-09-03T00:00:00",
          "2020-08-27T00:00:00",
          "2020-08-20T00:00:00",
          "2020-08-13T00:00:00",
          "2020-08-06T00:00:00"
         ],
         "xaxis": "x",
         "y": [
          2155384,
          1936790,
          1502326,
          1524453,
          1581028,
          1616913,
          1621121,
          1861833,
          1765929,
          1716789,
          1576448,
          1825944,
          1734839,
          1794880,
          1746081,
          1735427,
          1720760,
          1408481,
          1408340,
          1545443,
          1414892,
          1328638
         ],
         "yaxis": "y"
        },
        {
         "hovertemplate": "track_name=Somebody’s Problem<br>WeekDate=%{x}<br>ViewCount=%{y}<extra></extra>",
         "legendgroup": "Somebody’s Problem",
         "line": {
          "color": "#ab63fa",
          "dash": "solid"
         },
         "marker": {
          "symbol": "circle"
         },
         "mode": "lines+markers",
         "name": "Somebody’s Problem",
         "orientation": "v",
         "showlegend": true,
         "type": "scatter",
         "x": [
          "2021-02-11T00:00:00"
         ],
         "xaxis": "x",
         "y": [
          1461536
         ],
         "yaxis": "y"
        },
        {
         "hovertemplate": "track_name=More Than My Hometown<br>WeekDate=%{x}<br>ViewCount=%{y}<extra></extra>",
         "legendgroup": "More Than My Hometown",
         "line": {
          "color": "#FFA15A",
          "dash": "solid"
         },
         "marker": {
          "symbol": "circle"
         },
         "mode": "lines+markers",
         "name": "More Than My Hometown",
         "orientation": "v",
         "showlegend": true,
         "type": "scatter",
         "x": [
          "2021-02-04T00:00:00",
          "2021-01-28T00:00:00",
          "2021-01-21T00:00:00",
          "2021-01-14T00:00:00",
          "2021-01-07T00:00:00",
          "2020-12-31T00:00:00",
          "2020-12-24T00:00:00",
          "2020-12-17T00:00:00",
          "2020-12-10T00:00:00",
          "2020-12-03T00:00:00",
          "2020-11-26T00:00:00",
          "2020-11-19T00:00:00",
          "2020-11-12T00:00:00",
          "2020-11-05T00:00:00",
          "2020-10-29T00:00:00",
          "2020-10-22T00:00:00",
          "2020-10-15T00:00:00",
          "2020-10-08T00:00:00",
          "2020-10-01T00:00:00",
          "2020-09-24T00:00:00"
         ],
         "xaxis": "x",
         "y": [
          2029529,
          1957572,
          1882391,
          1893494,
          1590656,
          1702708,
          1761833,
          1723724,
          1945397,
          1944526,
          2306694,
          1976412,
          1837882,
          1704522,
          1837657,
          1720085,
          1706611,
          1625630,
          1710113,
          1636737
         ],
         "yaxis": "y"
        },
        {
         "hovertemplate": "track_name=Still Goin Down<br>WeekDate=%{x}<br>ViewCount=%{y}<extra></extra>",
         "legendgroup": "Still Goin Down",
         "line": {
          "color": "#19d3f3",
          "dash": "solid"
         },
         "marker": {
          "symbol": "circle"
         },
         "mode": "lines+markers",
         "name": "Still Goin Down",
         "orientation": "v",
         "showlegend": true,
         "type": "scatter",
         "x": [
          "2020-11-26T00:00:00"
         ],
         "xaxis": "x",
         "y": [
          1971107
         ],
         "yaxis": "y"
        },
        {
         "hovertemplate": "track_name=Heartless (feat. Morgan Wallen)<br>WeekDate=%{x}<br>ViewCount=%{y}<extra></extra>",
         "legendgroup": "Heartless (feat. Morgan Wallen)",
         "line": {
          "color": "#FF6692",
          "dash": "solid"
         },
         "marker": {
          "symbol": "circle"
         },
         "mode": "lines+markers",
         "name": "Heartless (feat. Morgan Wallen)",
         "orientation": "v",
         "showlegend": true,
         "type": "scatter",
         "x": [
          "2020-08-27T00:00:00",
          "2020-08-20T00:00:00",
          "2020-08-13T00:00:00",
          "2020-08-06T00:00:00",
          "2020-07-30T00:00:00",
          "2020-07-23T00:00:00",
          "2020-07-16T00:00:00",
          "2020-07-09T00:00:00",
          "2020-07-02T00:00:00",
          "2020-06-25T00:00:00",
          "2020-06-18T00:00:00",
          "2020-06-11T00:00:00",
          "2020-06-04T00:00:00",
          "2020-05-28T00:00:00",
          "2020-05-14T00:00:00"
         ],
         "xaxis": "x",
         "y": [
          1438226,
          1434847,
          1385859,
          1415846,
          1446490,
          1466098,
          1535333,
          1396754,
          1508377,
          1447488,
          1463484,
          1516471,
          1566593,
          1370159,
          1418502
         ],
         "yaxis": "y"
        }
       ],
       "layout": {
        "legend": {
         "title": {
          "text": "track_name"
         },
         "tracegroupgap": 0
        },
        "template": {
         "data": {
          "bar": [
           {
            "error_x": {
             "color": "#2a3f5f"
            },
            "error_y": {
             "color": "#2a3f5f"
            },
            "marker": {
             "line": {
              "color": "#E5ECF6",
              "width": 0.5
             },
             "pattern": {
              "fillmode": "overlay",
              "size": 10,
              "solidity": 0.2
             }
            },
            "type": "bar"
           }
          ],
          "barpolar": [
           {
            "marker": {
             "line": {
              "color": "#E5ECF6",
              "width": 0.5
             },
             "pattern": {
              "fillmode": "overlay",
              "size": 10,
              "solidity": 0.2
             }
            },
            "type": "barpolar"
           }
          ],
          "carpet": [
           {
            "aaxis": {
             "endlinecolor": "#2a3f5f",
             "gridcolor": "white",
             "linecolor": "white",
             "minorgridcolor": "white",
             "startlinecolor": "#2a3f5f"
            },
            "baxis": {
             "endlinecolor": "#2a3f5f",
             "gridcolor": "white",
             "linecolor": "white",
             "minorgridcolor": "white",
             "startlinecolor": "#2a3f5f"
            },
            "type": "carpet"
           }
          ],
          "choropleth": [
           {
            "colorbar": {
             "outlinewidth": 0,
             "ticks": ""
            },
            "type": "choropleth"
           }
          ],
          "contour": [
           {
            "colorbar": {
             "outlinewidth": 0,
             "ticks": ""
            },
            "colorscale": [
             [
              0,
              "#0d0887"
             ],
             [
              0.1111111111111111,
              "#46039f"
             ],
             [
              0.2222222222222222,
              "#7201a8"
             ],
             [
              0.3333333333333333,
              "#9c179e"
             ],
             [
              0.4444444444444444,
              "#bd3786"
             ],
             [
              0.5555555555555556,
              "#d8576b"
             ],
             [
              0.6666666666666666,
              "#ed7953"
             ],
             [
              0.7777777777777778,
              "#fb9f3a"
             ],
             [
              0.8888888888888888,
              "#fdca26"
             ],
             [
              1,
              "#f0f921"
             ]
            ],
            "type": "contour"
           }
          ],
          "contourcarpet": [
           {
            "colorbar": {
             "outlinewidth": 0,
             "ticks": ""
            },
            "type": "contourcarpet"
           }
          ],
          "heatmap": [
           {
            "colorbar": {
             "outlinewidth": 0,
             "ticks": ""
            },
            "colorscale": [
             [
              0,
              "#0d0887"
             ],
             [
              0.1111111111111111,
              "#46039f"
             ],
             [
              0.2222222222222222,
              "#7201a8"
             ],
             [
              0.3333333333333333,
              "#9c179e"
             ],
             [
              0.4444444444444444,
              "#bd3786"
             ],
             [
              0.5555555555555556,
              "#d8576b"
             ],
             [
              0.6666666666666666,
              "#ed7953"
             ],
             [
              0.7777777777777778,
              "#fb9f3a"
             ],
             [
              0.8888888888888888,
              "#fdca26"
             ],
             [
              1,
              "#f0f921"
             ]
            ],
            "type": "heatmap"
           }
          ],
          "heatmapgl": [
           {
            "colorbar": {
             "outlinewidth": 0,
             "ticks": ""
            },
            "colorscale": [
             [
              0,
              "#0d0887"
             ],
             [
              0.1111111111111111,
              "#46039f"
             ],
             [
              0.2222222222222222,
              "#7201a8"
             ],
             [
              0.3333333333333333,
              "#9c179e"
             ],
             [
              0.4444444444444444,
              "#bd3786"
             ],
             [
              0.5555555555555556,
              "#d8576b"
             ],
             [
              0.6666666666666666,
              "#ed7953"
             ],
             [
              0.7777777777777778,
              "#fb9f3a"
             ],
             [
              0.8888888888888888,
              "#fdca26"
             ],
             [
              1,
              "#f0f921"
             ]
            ],
            "type": "heatmapgl"
           }
          ],
          "histogram": [
           {
            "marker": {
             "pattern": {
              "fillmode": "overlay",
              "size": 10,
              "solidity": 0.2
             }
            },
            "type": "histogram"
           }
          ],
          "histogram2d": [
           {
            "colorbar": {
             "outlinewidth": 0,
             "ticks": ""
            },
            "colorscale": [
             [
              0,
              "#0d0887"
             ],
             [
              0.1111111111111111,
              "#46039f"
             ],
             [
              0.2222222222222222,
              "#7201a8"
             ],
             [
              0.3333333333333333,
              "#9c179e"
             ],
             [
              0.4444444444444444,
              "#bd3786"
             ],
             [
              0.5555555555555556,
              "#d8576b"
             ],
             [
              0.6666666666666666,
              "#ed7953"
             ],
             [
              0.7777777777777778,
              "#fb9f3a"
             ],
             [
              0.8888888888888888,
              "#fdca26"
             ],
             [
              1,
              "#f0f921"
             ]
            ],
            "type": "histogram2d"
           }
          ],
          "histogram2dcontour": [
           {
            "colorbar": {
             "outlinewidth": 0,
             "ticks": ""
            },
            "colorscale": [
             [
              0,
              "#0d0887"
             ],
             [
              0.1111111111111111,
              "#46039f"
             ],
             [
              0.2222222222222222,
              "#7201a8"
             ],
             [
              0.3333333333333333,
              "#9c179e"
             ],
             [
              0.4444444444444444,
              "#bd3786"
             ],
             [
              0.5555555555555556,
              "#d8576b"
             ],
             [
              0.6666666666666666,
              "#ed7953"
             ],
             [
              0.7777777777777778,
              "#fb9f3a"
             ],
             [
              0.8888888888888888,
              "#fdca26"
             ],
             [
              1,
              "#f0f921"
             ]
            ],
            "type": "histogram2dcontour"
           }
          ],
          "mesh3d": [
           {
            "colorbar": {
             "outlinewidth": 0,
             "ticks": ""
            },
            "type": "mesh3d"
           }
          ],
          "parcoords": [
           {
            "line": {
             "colorbar": {
              "outlinewidth": 0,
              "ticks": ""
             }
            },
            "type": "parcoords"
           }
          ],
          "pie": [
           {
            "automargin": true,
            "type": "pie"
           }
          ],
          "scatter": [
           {
            "fillpattern": {
             "fillmode": "overlay",
             "size": 10,
             "solidity": 0.2
            },
            "type": "scatter"
           }
          ],
          "scatter3d": [
           {
            "line": {
             "colorbar": {
              "outlinewidth": 0,
              "ticks": ""
             }
            },
            "marker": {
             "colorbar": {
              "outlinewidth": 0,
              "ticks": ""
             }
            },
            "type": "scatter3d"
           }
          ],
          "scattercarpet": [
           {
            "marker": {
             "colorbar": {
              "outlinewidth": 0,
              "ticks": ""
             }
            },
            "type": "scattercarpet"
           }
          ],
          "scattergeo": [
           {
            "marker": {
             "colorbar": {
              "outlinewidth": 0,
              "ticks": ""
             }
            },
            "type": "scattergeo"
           }
          ],
          "scattergl": [
           {
            "marker": {
             "colorbar": {
              "outlinewidth": 0,
              "ticks": ""
             }
            },
            "type": "scattergl"
           }
          ],
          "scattermapbox": [
           {
            "marker": {
             "colorbar": {
              "outlinewidth": 0,
              "ticks": ""
             }
            },
            "type": "scattermapbox"
           }
          ],
          "scatterpolar": [
           {
            "marker": {
             "colorbar": {
              "outlinewidth": 0,
              "ticks": ""
             }
            },
            "type": "scatterpolar"
           }
          ],
          "scatterpolargl": [
           {
            "marker": {
             "colorbar": {
              "outlinewidth": 0,
              "ticks": ""
             }
            },
            "type": "scatterpolargl"
           }
          ],
          "scatterternary": [
           {
            "marker": {
             "colorbar": {
              "outlinewidth": 0,
              "ticks": ""
             }
            },
            "type": "scatterternary"
           }
          ],
          "surface": [
           {
            "colorbar": {
             "outlinewidth": 0,
             "ticks": ""
            },
            "colorscale": [
             [
              0,
              "#0d0887"
             ],
             [
              0.1111111111111111,
              "#46039f"
             ],
             [
              0.2222222222222222,
              "#7201a8"
             ],
             [
              0.3333333333333333,
              "#9c179e"
             ],
             [
              0.4444444444444444,
              "#bd3786"
             ],
             [
              0.5555555555555556,
              "#d8576b"
             ],
             [
              0.6666666666666666,
              "#ed7953"
             ],
             [
              0.7777777777777778,
              "#fb9f3a"
             ],
             [
              0.8888888888888888,
              "#fdca26"
             ],
             [
              1,
              "#f0f921"
             ]
            ],
            "type": "surface"
           }
          ],
          "table": [
           {
            "cells": {
             "fill": {
              "color": "#EBF0F8"
             },
             "line": {
              "color": "white"
             }
            },
            "header": {
             "fill": {
              "color": "#C8D4E3"
             },
             "line": {
              "color": "white"
             }
            },
            "type": "table"
           }
          ]
         },
         "layout": {
          "annotationdefaults": {
           "arrowcolor": "#2a3f5f",
           "arrowhead": 0,
           "arrowwidth": 1
          },
          "autotypenumbers": "strict",
          "coloraxis": {
           "colorbar": {
            "outlinewidth": 0,
            "ticks": ""
           }
          },
          "colorscale": {
           "diverging": [
            [
             0,
             "#8e0152"
            ],
            [
             0.1,
             "#c51b7d"
            ],
            [
             0.2,
             "#de77ae"
            ],
            [
             0.3,
             "#f1b6da"
            ],
            [
             0.4,
             "#fde0ef"
            ],
            [
             0.5,
             "#f7f7f7"
            ],
            [
             0.6,
             "#e6f5d0"
            ],
            [
             0.7,
             "#b8e186"
            ],
            [
             0.8,
             "#7fbc41"
            ],
            [
             0.9,
             "#4d9221"
            ],
            [
             1,
             "#276419"
            ]
           ],
           "sequential": [
            [
             0,
             "#0d0887"
            ],
            [
             0.1111111111111111,
             "#46039f"
            ],
            [
             0.2222222222222222,
             "#7201a8"
            ],
            [
             0.3333333333333333,
             "#9c179e"
            ],
            [
             0.4444444444444444,
             "#bd3786"
            ],
            [
             0.5555555555555556,
             "#d8576b"
            ],
            [
             0.6666666666666666,
             "#ed7953"
            ],
            [
             0.7777777777777778,
             "#fb9f3a"
            ],
            [
             0.8888888888888888,
             "#fdca26"
            ],
            [
             1,
             "#f0f921"
            ]
           ],
           "sequentialminus": [
            [
             0,
             "#0d0887"
            ],
            [
             0.1111111111111111,
             "#46039f"
            ],
            [
             0.2222222222222222,
             "#7201a8"
            ],
            [
             0.3333333333333333,
             "#9c179e"
            ],
            [
             0.4444444444444444,
             "#bd3786"
            ],
            [
             0.5555555555555556,
             "#d8576b"
            ],
            [
             0.6666666666666666,
             "#ed7953"
            ],
            [
             0.7777777777777778,
             "#fb9f3a"
            ],
            [
             0.8888888888888888,
             "#fdca26"
            ],
            [
             1,
             "#f0f921"
            ]
           ]
          },
          "colorway": [
           "#636efa",
           "#EF553B",
           "#00cc96",
           "#ab63fa",
           "#FFA15A",
           "#19d3f3",
           "#FF6692",
           "#B6E880",
           "#FF97FF",
           "#FECB52"
          ],
          "font": {
           "color": "#2a3f5f"
          },
          "geo": {
           "bgcolor": "white",
           "lakecolor": "white",
           "landcolor": "#E5ECF6",
           "showlakes": true,
           "showland": true,
           "subunitcolor": "white"
          },
          "hoverlabel": {
           "align": "left"
          },
          "hovermode": "closest",
          "mapbox": {
           "style": "light"
          },
          "paper_bgcolor": "white",
          "plot_bgcolor": "#E5ECF6",
          "polar": {
           "angularaxis": {
            "gridcolor": "white",
            "linecolor": "white",
            "ticks": ""
           },
           "bgcolor": "#E5ECF6",
           "radialaxis": {
            "gridcolor": "white",
            "linecolor": "white",
            "ticks": ""
           }
          },
          "scene": {
           "xaxis": {
            "backgroundcolor": "#E5ECF6",
            "gridcolor": "white",
            "gridwidth": 2,
            "linecolor": "white",
            "showbackground": true,
            "ticks": "",
            "zerolinecolor": "white"
           },
           "yaxis": {
            "backgroundcolor": "#E5ECF6",
            "gridcolor": "white",
            "gridwidth": 2,
            "linecolor": "white",
            "showbackground": true,
            "ticks": "",
            "zerolinecolor": "white"
           },
           "zaxis": {
            "backgroundcolor": "#E5ECF6",
            "gridcolor": "white",
            "gridwidth": 2,
            "linecolor": "white",
            "showbackground": true,
            "ticks": "",
            "zerolinecolor": "white"
           }
          },
          "shapedefaults": {
           "line": {
            "color": "#2a3f5f"
           }
          },
          "ternary": {
           "aaxis": {
            "gridcolor": "white",
            "linecolor": "white",
            "ticks": ""
           },
           "baxis": {
            "gridcolor": "white",
            "linecolor": "white",
            "ticks": ""
           },
           "bgcolor": "#E5ECF6",
           "caxis": {
            "gridcolor": "white",
            "linecolor": "white",
            "ticks": ""
           }
          },
          "title": {
           "x": 0.05
          },
          "xaxis": {
           "automargin": true,
           "gridcolor": "white",
           "linecolor": "white",
           "ticks": "",
           "title": {
            "standoff": 15
           },
           "zerolinecolor": "white",
           "zerolinewidth": 2
          },
          "yaxis": {
           "automargin": true,
           "gridcolor": "white",
           "linecolor": "white",
           "ticks": "",
           "title": {
            "standoff": 15
           },
           "zerolinecolor": "white",
           "zerolinewidth": 2
          }
         }
        },
        "title": {
         "text": "Weekly Streams of Artist songs in the Top 100 for Morgan Wallen on Youtube"
        },
        "xaxis": {
         "anchor": "y",
         "domain": [
          0,
          1
         ],
         "rangeslider": {
          "visible": true
         },
         "title": {
          "text": "Week"
         }
        },
        "yaxis": {
         "anchor": "x",
         "domain": [
          0,
          1
         ],
         "title": {
          "text": "Streams per Week"
         }
        }
       }
      }
     },
     "metadata": {},
     "output_type": "display_data"
    }
   ],
   "source": [
    "YT_Chart_Maker(\"Morgan Wallen\")"
   ]
  },
  {
   "cell_type": "code",
   "execution_count": 6,
   "metadata": {},
   "outputs": [
    {
     "data": {
      "application/vnd.plotly.v1+json": {
       "config": {
        "plotlyServerURL": "https://plot.ly"
       },
       "data": [
        {
         "hovertemplate": "track_name=Last Night<br>WeekDate=%{x}<br>streams=%{y}<extra></extra>",
         "legendgroup": "Last Night",
         "line": {
          "color": "#636efa",
          "dash": "solid"
         },
         "marker": {
          "symbol": "circle"
         },
         "mode": "lines+markers",
         "name": "Last Night",
         "orientation": "v",
         "showlegend": true,
         "type": "scatter",
         "x": [
          "2023-12-07",
          "2023-11-30",
          "2023-11-23",
          "2023-11-16",
          "2023-11-09",
          "2023-11-02",
          "2023-10-26",
          "2023-10-19",
          "2023-10-12",
          "2023-10-05",
          "2023-09-28",
          "2023-09-21",
          "2023-09-14",
          "2023-09-07",
          "2023-08-31",
          "2023-08-24",
          "2023-08-17",
          "2023-08-10",
          "2023-08-03",
          "2023-07-27",
          "2023-07-20",
          "2023-07-13",
          "2023-07-06",
          "2023-06-29",
          "2023-06-22",
          "2023-06-15",
          "2023-06-08",
          "2023-06-01",
          "2023-05-25",
          "2023-05-18",
          "2023-05-11",
          "2023-05-04",
          "2023-04-27",
          "2023-04-20",
          "2023-04-13",
          "2023-04-06",
          "2023-03-30",
          "2023-03-23",
          "2023-03-16",
          "2023-03-09",
          "2023-03-02",
          "2023-02-23",
          "2023-02-16",
          "2023-02-09",
          "2023-02-02"
         ],
         "xaxis": "x",
         "y": [
          5870442,
          4972484,
          5182358,
          5560522,
          5425449,
          5696433,
          6497205,
          6289473,
          6779515,
          7220526,
          7598327,
          7531614,
          7834245,
          8404818,
          8122963,
          9040587,
          9122552,
          9114260,
          9473235,
          10204549,
          10179878,
          10126070,
          10469983,
          10497749,
          10241241,
          10409593,
          10478486,
          11071256,
          11054659,
          11285921,
          11650614,
          10805636,
          11264011,
          11937591,
          12605958,
          12579124,
          12644771,
          12491789,
          14008658,
          16883425,
          9968581,
          10238835,
          10727952,
          11560741,
          4576092
         ],
         "yaxis": "y"
        },
        {
         "hovertemplate": "track_name=You Proof<br>WeekDate=%{x}<br>streams=%{y}<extra></extra>",
         "legendgroup": "You Proof",
         "line": {
          "color": "#EF553B",
          "dash": "solid"
         },
         "marker": {
          "symbol": "circle"
         },
         "mode": "lines+markers",
         "name": "You Proof",
         "orientation": "v",
         "showlegend": true,
         "type": "scatter",
         "x": [
          "2023-12-07",
          "2023-11-30",
          "2023-11-23",
          "2023-11-16",
          "2023-11-09",
          "2023-11-02",
          "2023-10-26",
          "2023-10-19",
          "2023-10-12",
          "2023-10-05",
          "2023-09-28",
          "2023-09-21",
          "2023-09-14",
          "2023-09-07",
          "2023-08-31",
          "2023-08-24",
          "2023-08-17",
          "2023-08-10",
          "2023-08-03",
          "2023-07-27",
          "2023-07-20",
          "2023-07-13",
          "2023-07-06",
          "2023-06-29",
          "2023-06-22",
          "2023-06-15",
          "2023-06-08",
          "2023-06-01",
          "2023-05-25",
          "2023-05-18",
          "2023-05-11",
          "2023-05-04",
          "2023-04-27",
          "2023-04-20",
          "2023-04-13",
          "2023-04-06",
          "2023-03-30",
          "2023-03-23",
          "2023-03-16",
          "2023-03-09",
          "2023-03-02",
          "2023-02-23",
          "2023-02-16",
          "2023-02-09",
          "2023-02-02",
          "2023-01-26",
          "2023-01-19",
          "2023-01-12",
          "2023-01-05",
          "2022-12-29",
          "2022-12-22",
          "2022-12-15",
          "2022-12-08",
          "2022-12-01",
          "2022-11-24",
          "2022-11-17",
          "2022-11-10",
          "2022-11-03",
          "2022-10-27",
          "2022-10-20",
          "2022-10-13",
          "2022-10-06",
          "2022-09-29",
          "2022-09-22",
          "2022-09-15",
          "2022-09-08",
          "2022-09-01",
          "2022-08-25",
          "2022-08-18",
          "2022-08-11",
          "2022-08-04",
          "2022-07-28",
          "2022-07-21",
          "2022-07-14",
          "2022-07-07",
          "2022-06-30",
          "2022-06-23",
          "2022-06-16",
          "2022-06-09",
          "2022-06-02",
          "2022-05-26",
          "2022-05-19"
         ],
         "xaxis": "x",
         "y": [
          3650007,
          3387080,
          3726328,
          3705393,
          3565517,
          3569239,
          3795599,
          3898400,
          4101489,
          4174325,
          4141611,
          4234380,
          4323645,
          4613604,
          4505144,
          4651095,
          4871392,
          4608553,
          5043367,
          5276463,
          5379829,
          5172470,
          5366227,
          5198773,
          5094630,
          5022517,
          5029369,
          5592294,
          5341064,
          5346491,
          5640377,
          5224119,
          5290488,
          5565445,
          5705777,
          5649150,
          5939671,
          5512762,
          6064382,
          7983070,
          4007168,
          3810148,
          3893572,
          4038083,
          3626194,
          3924088,
          3631487,
          4237624,
          4357388,
          3838590,
          3959308,
          4395101,
          4609449,
          3903468,
          4083543,
          4055877,
          4015953,
          3889119,
          4153829,
          4268574,
          4280489,
          4076260,
          4408163,
          4943663,
          4655515,
          4366858,
          4494351,
          4347042,
          4693414,
          4422957,
          4314274,
          4194969,
          4014604,
          4363167,
          4007604,
          3368498,
          3554380,
          3665411,
          3804223,
          4172424,
          4997350,
          8063954
         ],
         "yaxis": "y"
        },
        {
         "hovertemplate": "track_name=Thinkin’ Bout Me<br>WeekDate=%{x}<br>streams=%{y}<extra></extra>",
         "legendgroup": "Thinkin’ Bout Me",
         "line": {
          "color": "#00cc96",
          "dash": "solid"
         },
         "marker": {
          "symbol": "circle"
         },
         "mode": "lines+markers",
         "name": "Thinkin’ Bout Me",
         "orientation": "v",
         "showlegend": true,
         "type": "scatter",
         "x": [
          "2023-12-07",
          "2023-11-30",
          "2023-11-23",
          "2023-11-16",
          "2023-11-09",
          "2023-11-02",
          "2023-10-26",
          "2023-10-19",
          "2023-10-12",
          "2023-10-05",
          "2023-09-28",
          "2023-09-21",
          "2023-09-14",
          "2023-09-07",
          "2023-08-31",
          "2023-08-24",
          "2023-08-17",
          "2023-08-10",
          "2023-08-03",
          "2023-07-27",
          "2023-07-20",
          "2023-07-13",
          "2023-07-06",
          "2023-06-29",
          "2023-06-22",
          "2023-06-15",
          "2023-06-08",
          "2023-06-01",
          "2023-05-25",
          "2023-05-18",
          "2023-05-11",
          "2023-05-04",
          "2023-04-27",
          "2023-04-20",
          "2023-04-13",
          "2023-04-06",
          "2023-03-30",
          "2023-03-23",
          "2023-03-16",
          "2023-03-09"
         ],
         "xaxis": "x",
         "y": [
          3835117,
          3475280,
          3723824,
          3787753,
          4132542,
          4054126,
          3354311,
          3445402,
          3638137,
          3511539,
          3262176,
          3297108,
          3392017,
          3691863,
          3510232,
          3846232,
          3841926,
          3733180,
          3949858,
          4186664,
          4273158,
          4037952,
          4131019,
          4149388,
          4041151,
          4012755,
          4066399,
          4247775,
          4572497,
          4664439,
          4757509,
          4170508,
          4357901,
          4655974,
          4990903,
          5056004,
          5525318,
          5412826,
          6055187,
          8059932
         ],
         "yaxis": "y"
        },
        {
         "hovertemplate": "track_name=Wasted On You<br>WeekDate=%{x}<br>streams=%{y}<extra></extra>",
         "legendgroup": "Wasted On You",
         "line": {
          "color": "#ab63fa",
          "dash": "solid"
         },
         "marker": {
          "symbol": "circle"
         },
         "mode": "lines+markers",
         "name": "Wasted On You",
         "orientation": "v",
         "showlegend": true,
         "type": "scatter",
         "x": [
          "2023-12-07",
          "2023-11-30",
          "2023-11-23",
          "2023-11-16",
          "2023-11-09",
          "2023-11-02",
          "2023-10-26",
          "2023-10-19",
          "2023-10-12",
          "2023-10-05",
          "2023-09-28",
          "2023-09-21",
          "2023-09-14",
          "2023-09-07",
          "2023-08-31",
          "2023-08-24",
          "2023-08-17",
          "2023-08-10",
          "2023-08-03",
          "2023-07-27",
          "2023-07-20",
          "2023-07-13",
          "2023-07-06",
          "2023-06-29",
          "2023-06-22",
          "2023-06-15",
          "2023-06-08",
          "2023-06-01",
          "2023-05-25",
          "2023-05-18",
          "2023-05-11",
          "2023-05-04",
          "2023-04-27",
          "2023-04-20",
          "2023-04-13",
          "2023-04-06",
          "2023-03-30",
          "2023-03-23",
          "2023-03-16",
          "2023-03-09",
          "2023-03-02",
          "2023-02-23",
          "2023-02-16",
          "2023-02-09",
          "2023-02-02",
          "2023-01-26",
          "2023-01-19",
          "2023-01-12",
          "2023-01-05",
          "2022-12-29",
          "2022-12-22",
          "2022-12-15",
          "2022-12-08",
          "2022-12-01",
          "2022-11-24",
          "2022-11-17",
          "2022-11-10",
          "2022-11-03",
          "2022-10-27",
          "2022-10-20",
          "2022-10-13",
          "2022-10-06",
          "2022-09-29",
          "2022-09-22",
          "2022-09-15",
          "2022-09-08",
          "2022-09-01",
          "2022-08-25",
          "2022-08-18",
          "2022-08-11",
          "2022-08-04",
          "2022-07-28",
          "2022-07-21",
          "2022-07-14",
          "2022-07-07",
          "2022-06-30",
          "2022-06-23",
          "2022-06-16",
          "2022-06-09",
          "2022-06-02",
          "2022-05-26",
          "2022-05-19",
          "2022-05-12",
          "2022-05-05",
          "2022-04-28",
          "2022-04-21",
          "2022-04-14",
          "2022-04-07",
          "2022-03-31",
          "2022-03-24",
          "2022-03-17",
          "2021-05-13",
          "2021-05-06",
          "2021-04-29",
          "2021-04-22",
          "2021-04-08",
          "2021-04-01",
          "2021-03-25",
          "2021-03-18",
          "2021-03-11",
          "2021-03-04",
          "2021-02-25",
          "2021-02-18",
          "2021-02-11",
          "2021-02-04",
          "2021-01-28",
          "2021-01-21",
          "2021-01-14"
         ],
         "xaxis": "x",
         "y": [
          3654658,
          3336858,
          3640003,
          3642815,
          3506092,
          3433823,
          3537744,
          3520252,
          3769187,
          3818845,
          3644606,
          3722984,
          3735678,
          3983087,
          4024578,
          4194904,
          4251073,
          4188622,
          4476036,
          4626800,
          4825150,
          4540079,
          4701335,
          4659259,
          4496711,
          4464733,
          4392286,
          4683920,
          4674037,
          4601991,
          4586672,
          4138665,
          4089154,
          4224868,
          4228643,
          4033213,
          4072116,
          3759809,
          4028794,
          4592662,
          3814979,
          3595942,
          3679998,
          3770839,
          3279372,
          3267553,
          2941620,
          3306125,
          3343447,
          3030977,
          3311970,
          3460969,
          3692462,
          3148460,
          3234127,
          3117280,
          3078538,
          2997488,
          3078722,
          3196330,
          3070185,
          3027142,
          2961915,
          3055966,
          2925137,
          2846607,
          2916147,
          2895399,
          2929497,
          2923963,
          2918349,
          2886774,
          2891156,
          2966280,
          3029728,
          3149023,
          3624393,
          3609628,
          3568481,
          3704788,
          3414449,
          3642292,
          3286686,
          3066216,
          3095728,
          2945991,
          2692799,
          2509512,
          2436936,
          2262747,
          2260531,
          1938941,
          1999399,
          2002074,
          2033122,
          2297748,
          2331826,
          2387429,
          2520633,
          2757760,
          2885009,
          3099274,
          3049888,
          3856995,
          4017741,
          4133654,
          4669859,
          6198233
         ],
         "yaxis": "y"
        },
        {
         "hovertemplate": "track_name=Mamaw's House<br>WeekDate=%{x}<br>streams=%{y}<extra></extra>",
         "legendgroup": "Mamaw's House",
         "line": {
          "color": "#FFA15A",
          "dash": "solid"
         },
         "marker": {
          "symbol": "circle"
         },
         "mode": "lines+markers",
         "name": "Mamaw's House",
         "orientation": "v",
         "showlegend": true,
         "type": "scatter",
         "x": [
          "2023-10-05"
         ],
         "xaxis": "x",
         "y": [
          3331610
         ],
         "yaxis": "y"
        },
        {
         "hovertemplate": "track_name=Whiskey Glasses<br>WeekDate=%{x}<br>streams=%{y}<extra></extra>",
         "legendgroup": "Whiskey Glasses",
         "line": {
          "color": "#19d3f3",
          "dash": "solid"
         },
         "marker": {
          "symbol": "circle"
         },
         "mode": "lines+markers",
         "name": "Whiskey Glasses",
         "orientation": "v",
         "showlegend": true,
         "type": "scatter",
         "x": [
          "2023-09-07",
          "2023-08-31",
          "2023-08-24",
          "2023-08-17",
          "2023-08-10",
          "2023-08-03",
          "2023-07-27",
          "2023-07-20",
          "2023-07-13",
          "2023-07-06",
          "2023-06-29",
          "2023-06-22",
          "2023-06-15",
          "2023-06-08",
          "2023-06-01",
          "2023-05-25",
          "2023-05-18",
          "2023-05-11",
          "2023-05-04",
          "2023-04-27",
          "2023-04-20",
          "2023-04-13",
          "2023-04-06",
          "2023-03-16",
          "2022-10-27",
          "2022-10-20",
          "2022-10-13",
          "2022-10-06",
          "2022-09-29",
          "2022-09-22",
          "2022-09-15",
          "2022-09-08",
          "2022-09-01",
          "2022-08-25",
          "2022-08-18",
          "2022-08-11",
          "2022-08-04",
          "2022-07-28",
          "2022-07-21",
          "2022-07-14",
          "2022-07-07",
          "2022-06-30",
          "2022-06-23",
          "2022-06-16",
          "2022-06-09",
          "2022-06-02",
          "2022-05-26",
          "2022-05-19",
          "2022-05-12",
          "2022-05-05",
          "2022-04-28",
          "2022-04-21",
          "2022-04-14",
          "2022-04-07",
          "2022-03-24",
          "2021-04-08",
          "2021-04-01",
          "2021-03-25",
          "2021-03-18",
          "2021-03-11",
          "2021-03-04",
          "2021-02-25",
          "2021-02-18",
          "2021-02-11",
          "2021-02-04",
          "2021-01-28",
          "2021-01-21",
          "2021-01-07",
          "2020-11-26",
          "2020-11-19",
          "2020-11-12",
          "2020-10-29",
          "2020-10-22",
          "2020-10-15",
          "2020-10-08",
          "2020-10-01",
          "2020-09-24",
          "2020-09-17",
          "2020-09-10",
          "2020-09-03",
          "2020-08-27",
          "2020-08-20",
          "2020-08-13",
          "2020-07-23",
          "2020-07-16",
          "2020-07-09",
          "2020-07-02",
          "2020-06-25",
          "2020-06-18",
          "2020-06-11",
          "2020-06-04",
          "2020-05-28",
          "2020-05-21",
          "2020-05-14",
          "2020-05-07",
          "2020-04-30",
          "2020-04-23",
          "2020-04-16",
          "2020-04-09"
         ],
         "xaxis": "x",
         "y": [
          2928341,
          2841695,
          3062245,
          3156385,
          3000892,
          3125687,
          3234322,
          3227609,
          3167958,
          3421324,
          3189348,
          3103862,
          3001992,
          3077542,
          3438310,
          3125203,
          3065662,
          3194290,
          2925078,
          2928527,
          3031600,
          2916158,
          2710696,
          2645873,
          2267304,
          2286714,
          2328760,
          2362189,
          2467383,
          2496589,
          2379962,
          2387773,
          2404530,
          2370240,
          2467792,
          2506326,
          2542888,
          2573600,
          2600937,
          2671374,
          2826241,
          2748302,
          2725386,
          2652746,
          2629731,
          2811516,
          2566639,
          2707686,
          2522920,
          2400626,
          2344774,
          2347479,
          2167910,
          2049212,
          2067791,
          2033416,
          1995386,
          2000742,
          2003050,
          2080235,
          2063837,
          2010488,
          1938076,
          2359498,
          2145558,
          2011282,
          2020945,
          1844977,
          2317321,
          2046688,
          2052178,
          2137152,
          2261097,
          2364312,
          2329065,
          2227677,
          2234234,
          2181375,
          2313370,
          2304669,
          2297814,
          2420103,
          2184910,
          2265226,
          2274240,
          2258459,
          2280503,
          2276618,
          2334027,
          2313002,
          2208697,
          2263431,
          2177058,
          2127872,
          2246559,
          2121323,
          2119050,
          1963331,
          2028076
         ],
         "yaxis": "y"
        },
        {
         "hovertemplate": "track_name=Chasin' You<br>WeekDate=%{x}<br>streams=%{y}<extra></extra>",
         "legendgroup": "Chasin' You",
         "line": {
          "color": "#FF6692",
          "dash": "solid"
         },
         "marker": {
          "symbol": "circle"
         },
         "mode": "lines+markers",
         "name": "Chasin' You",
         "orientation": "v",
         "showlegend": true,
         "type": "scatter",
         "x": [
          "2023-08-24",
          "2023-08-17",
          "2023-07-27",
          "2023-07-20",
          "2023-07-13",
          "2023-07-06",
          "2023-06-29",
          "2023-06-22",
          "2023-06-15",
          "2023-06-08",
          "2023-06-01",
          "2023-05-25",
          "2023-05-18",
          "2023-05-11",
          "2023-05-04",
          "2023-04-27",
          "2023-04-20",
          "2023-04-13",
          "2023-04-06",
          "2020-10-29",
          "2020-10-22",
          "2020-10-15",
          "2020-09-24",
          "2020-09-10",
          "2020-09-03",
          "2020-08-27",
          "2020-08-20",
          "2020-07-23",
          "2020-07-16",
          "2020-07-09",
          "2020-07-02",
          "2020-06-25",
          "2020-06-18",
          "2020-06-11",
          "2020-06-04",
          "2020-05-28",
          "2020-05-21",
          "2020-05-14",
          "2020-05-07",
          "2020-04-30",
          "2020-04-23",
          "2020-04-16",
          "2020-04-09"
         ],
         "xaxis": "x",
         "y": [
          2694060,
          2891465,
          3016837,
          3061453,
          3030037,
          3063085,
          2997374,
          2960018,
          2894693,
          2827960,
          3107594,
          2957735,
          2933390,
          3051373,
          2739761,
          2695654,
          2837728,
          2842204,
          2664487,
          1900206,
          1946128,
          2010751,
          2074859,
          2107139,
          2121535,
          2168867,
          2381620,
          2095301,
          2141984,
          2368732,
          2585781,
          2711730,
          2539413,
          2255008,
          2153848,
          2141952,
          2072487,
          2178585,
          2229868,
          2125289,
          2103306,
          2085678,
          2138072
         ],
         "yaxis": "y"
        },
        {
         "hovertemplate": "track_name=Stand By Me (feat. Morgan Wallen)<br>WeekDate=%{x}<br>streams=%{y}<extra></extra>",
         "legendgroup": "Stand By Me (feat. Morgan Wallen)",
         "line": {
          "color": "#B6E880",
          "dash": "solid"
         },
         "marker": {
          "symbol": "circle"
         },
         "mode": "lines+markers",
         "name": "Stand By Me (feat. Morgan Wallen)",
         "orientation": "v",
         "showlegend": true,
         "type": "scatter",
         "x": [
          "2023-07-27",
          "2023-07-20",
          "2023-07-13",
          "2023-07-06",
          "2023-06-29",
          "2023-06-22",
          "2023-06-15",
          "2023-06-08",
          "2023-06-01"
         ],
         "xaxis": "x",
         "y": [
          2995431,
          3078761,
          3040723,
          3262450,
          3487128,
          4499081,
          4699642,
          6785423,
          5422424
         ],
         "yaxis": "y"
        },
        {
         "hovertemplate": "track_name=Thought You Should Know<br>WeekDate=%{x}<br>streams=%{y}<extra></extra>",
         "legendgroup": "Thought You Should Know",
         "line": {
          "color": "#FF97FF",
          "dash": "solid"
         },
         "marker": {
          "symbol": "circle"
         },
         "mode": "lines+markers",
         "name": "Thought You Should Know",
         "orientation": "v",
         "showlegend": true,
         "type": "scatter",
         "x": [
          "2023-07-27",
          "2023-07-20",
          "2023-07-06",
          "2023-06-29",
          "2023-06-22",
          "2023-06-15",
          "2023-06-08",
          "2023-06-01",
          "2023-05-25",
          "2023-05-18",
          "2023-05-11",
          "2023-05-04",
          "2023-04-27",
          "2023-04-20",
          "2023-04-13",
          "2023-04-06",
          "2023-03-30",
          "2023-03-23",
          "2023-03-16",
          "2023-03-09",
          "2023-03-02",
          "2023-02-23",
          "2023-02-16",
          "2023-02-09",
          "2023-02-02",
          "2022-06-02",
          "2022-05-26",
          "2022-05-19",
          "2022-05-12"
         ],
         "xaxis": "x",
         "y": [
          2736533,
          2845307,
          2830098,
          2823286,
          2782528,
          2779330,
          2860374,
          2912128,
          2786198,
          2846300,
          3027360,
          2839409,
          3027546,
          3110838,
          3581852,
          3666050,
          3952072,
          4324842,
          4854031,
          6766090,
          3097134,
          2783479,
          2938785,
          3097815,
          2585135,
          2411930,
          2733292,
          3742972,
          6103635
         ],
         "yaxis": "y"
        },
        {
         "hovertemplate": "track_name=One Thing At A Time<br>WeekDate=%{x}<br>streams=%{y}<extra></extra>",
         "legendgroup": "One Thing At A Time",
         "line": {
          "color": "#FECB52",
          "dash": "solid"
         },
         "marker": {
          "symbol": "circle"
         },
         "mode": "lines+markers",
         "name": "One Thing At A Time",
         "orientation": "v",
         "showlegend": true,
         "type": "scatter",
         "x": [
          "2023-06-29",
          "2023-06-22",
          "2023-06-15",
          "2023-06-08",
          "2023-06-01",
          "2023-05-25",
          "2023-05-18",
          "2023-05-11",
          "2023-05-04",
          "2023-04-27",
          "2023-04-20",
          "2023-04-13",
          "2023-04-06",
          "2023-03-30",
          "2023-03-23",
          "2023-03-16",
          "2023-03-09",
          "2023-03-02",
          "2023-02-23",
          "2023-02-16",
          "2023-02-09",
          "2023-02-02",
          "2022-12-08"
         ],
         "xaxis": "x",
         "y": [
          2686153,
          2760358,
          2948391,
          3218575,
          3582254,
          3531735,
          3669750,
          3983060,
          3917771,
          4238966,
          4478329,
          4532414,
          4522873,
          4714012,
          5106577,
          6562959,
          9178151,
          3085126,
          2592355,
          2681379,
          2979918,
          2791433,
          5253975
         ],
         "yaxis": "y"
        },
        {
         "hovertemplate": "track_name=Ain’t That Some<br>WeekDate=%{x}<br>streams=%{y}<extra></extra>",
         "legendgroup": "Ain’t That Some",
         "line": {
          "color": "#636efa",
          "dash": "solid"
         },
         "marker": {
          "symbol": "circle"
         },
         "mode": "lines+markers",
         "name": "Ain’t That Some",
         "orientation": "v",
         "showlegend": true,
         "type": "scatter",
         "x": [
          "2023-05-25",
          "2023-05-18",
          "2023-05-11",
          "2023-05-04",
          "2023-04-27",
          "2023-04-20",
          "2023-04-13",
          "2023-04-06",
          "2023-03-30",
          "2023-03-23",
          "2023-03-16",
          "2023-03-09"
         ],
         "xaxis": "x",
         "y": [
          2770235,
          2827765,
          2964805,
          2687547,
          2962466,
          3221449,
          3488652,
          3582293,
          4138951,
          4482700,
          5287719,
          8630471
         ],
         "yaxis": "y"
        },
        {
         "hovertemplate": "track_name=Cowgirls (feat. ERNEST)<br>WeekDate=%{x}<br>streams=%{y}<extra></extra>",
         "legendgroup": "Cowgirls (feat. ERNEST)",
         "line": {
          "color": "#EF553B",
          "dash": "solid"
         },
         "marker": {
          "symbol": "circle"
         },
         "mode": "lines+markers",
         "name": "Cowgirls (feat. ERNEST)",
         "orientation": "v",
         "showlegend": true,
         "type": "scatter",
         "x": [
          "2023-05-25",
          "2023-05-18",
          "2023-05-11",
          "2023-04-20",
          "2023-04-13",
          "2023-04-06",
          "2023-03-30",
          "2023-03-23",
          "2023-03-16",
          "2023-03-09"
         ],
         "xaxis": "x",
         "y": [
          2756816,
          2763983,
          2931026,
          2788436,
          2850961,
          2975771,
          3396679,
          3323040,
          3336995,
          5051131
         ],
         "yaxis": "y"
        },
        {
         "hovertemplate": "track_name=Everything I Love<br>WeekDate=%{x}<br>streams=%{y}<extra></extra>",
         "legendgroup": "Everything I Love",
         "line": {
          "color": "#00cc96",
          "dash": "solid"
         },
         "marker": {
          "symbol": "circle"
         },
         "mode": "lines+markers",
         "name": "Everything I Love",
         "orientation": "v",
         "showlegend": true,
         "type": "scatter",
         "x": [
          "2023-05-11",
          "2023-04-27",
          "2023-04-20",
          "2023-04-13",
          "2023-04-06",
          "2023-03-30",
          "2023-03-23",
          "2023-03-16",
          "2023-03-09",
          "2023-02-16",
          "2023-02-09",
          "2023-02-02"
         ],
         "xaxis": "x",
         "y": [
          2684495,
          2887801,
          3190311,
          3461229,
          3624782,
          3996388,
          4336676,
          5190509,
          8313488,
          2780970,
          4008458,
          2982331
         ],
         "yaxis": "y"
        },
        {
         "hovertemplate": "track_name=Man Made A Bar (feat. Eric Church)<br>WeekDate=%{x}<br>streams=%{y}<extra></extra>",
         "legendgroup": "Man Made A Bar (feat. Eric Church)",
         "line": {
          "color": "#ab63fa",
          "dash": "solid"
         },
         "marker": {
          "symbol": "circle"
         },
         "mode": "lines+markers",
         "name": "Man Made A Bar (feat. Eric Church)",
         "orientation": "v",
         "showlegend": true,
         "type": "scatter",
         "x": [
          "2023-04-13",
          "2023-04-06",
          "2023-03-30",
          "2023-03-23",
          "2023-03-16",
          "2023-03-09"
         ],
         "xaxis": "x",
         "y": [
          2676450,
          2682380,
          3106427,
          3350407,
          4044648,
          7496964
         ],
         "yaxis": "y"
        },
        {
         "hovertemplate": "track_name=I Wrote The Book<br>WeekDate=%{x}<br>streams=%{y}<extra></extra>",
         "legendgroup": "I Wrote The Book",
         "line": {
          "color": "#FFA15A",
          "dash": "solid"
         },
         "marker": {
          "symbol": "circle"
         },
         "mode": "lines+markers",
         "name": "I Wrote The Book",
         "orientation": "v",
         "showlegend": true,
         "type": "scatter",
         "x": [
          "2023-04-13",
          "2023-04-06",
          "2023-03-30",
          "2023-03-23",
          "2023-03-16",
          "2023-03-09",
          "2023-03-02",
          "2023-02-23",
          "2023-02-16",
          "2023-02-09",
          "2023-02-02"
         ],
         "xaxis": "x",
         "y": [
          2735449,
          2927849,
          3092639,
          3652241,
          4835729,
          7775404,
          2648891,
          3102685,
          3426222,
          4400886,
          3055036
         ],
         "yaxis": "y"
        },
        {
         "hovertemplate": "track_name=Dying Man<br>WeekDate=%{x}<br>streams=%{y}<extra></extra>",
         "legendgroup": "Dying Man",
         "line": {
          "color": "#19d3f3",
          "dash": "solid"
         },
         "marker": {
          "symbol": "circle"
         },
         "mode": "lines+markers",
         "name": "Dying Man",
         "orientation": "v",
         "showlegend": true,
         "type": "scatter",
         "x": [
          "2023-03-30",
          "2023-03-23",
          "2023-03-16",
          "2023-03-09"
         ],
         "xaxis": "x",
         "y": [
          2859688,
          2810739,
          3165898,
          4767944
         ],
         "yaxis": "y"
        },
        {
         "hovertemplate": "track_name=’98 Braves<br>WeekDate=%{x}<br>streams=%{y}<extra></extra>",
         "legendgroup": "’98 Braves",
         "line": {
          "color": "#FF6692",
          "dash": "solid"
         },
         "marker": {
          "symbol": "circle"
         },
         "mode": "lines+markers",
         "name": "’98 Braves",
         "orientation": "v",
         "showlegend": true,
         "type": "scatter",
         "x": [
          "2023-03-30",
          "2023-03-23",
          "2023-03-16",
          "2023-03-09"
         ],
         "xaxis": "x",
         "y": [
          2906483,
          3272434,
          3958221,
          7004807
         ],
         "yaxis": "y"
        },
        {
         "hovertemplate": "track_name=Sunrise<br>WeekDate=%{x}<br>streams=%{y}<extra></extra>",
         "legendgroup": "Sunrise",
         "line": {
          "color": "#B6E880",
          "dash": "solid"
         },
         "marker": {
          "symbol": "circle"
         },
         "mode": "lines+markers",
         "name": "Sunrise",
         "orientation": "v",
         "showlegend": true,
         "type": "scatter",
         "x": [
          "2023-03-23",
          "2023-03-16",
          "2023-03-09"
         ],
         "xaxis": "x",
         "y": [
          3051691,
          3752176,
          6384250
         ],
         "yaxis": "y"
        },
        {
         "hovertemplate": "track_name=Born With A Beer In My Hand<br>WeekDate=%{x}<br>streams=%{y}<extra></extra>",
         "legendgroup": "Born With A Beer In My Hand",
         "line": {
          "color": "#FF97FF",
          "dash": "solid"
         },
         "marker": {
          "symbol": "circle"
         },
         "mode": "lines+markers",
         "name": "Born With A Beer In My Hand",
         "orientation": "v",
         "showlegend": true,
         "type": "scatter",
         "x": [
          "2023-03-16",
          "2023-03-09"
         ],
         "xaxis": "x",
         "y": [
          3043526,
          6490479
         ],
         "yaxis": "y"
        },
        {
         "hovertemplate": "track_name=Whiskey Friends<br>WeekDate=%{x}<br>streams=%{y}<extra></extra>",
         "legendgroup": "Whiskey Friends",
         "line": {
          "color": "#FECB52",
          "dash": "solid"
         },
         "marker": {
          "symbol": "circle"
         },
         "mode": "lines+markers",
         "name": "Whiskey Friends",
         "orientation": "v",
         "showlegend": true,
         "type": "scatter",
         "x": [
          "2023-03-16",
          "2023-03-09"
         ],
         "xaxis": "x",
         "y": [
          3311666,
          5985144
         ],
         "yaxis": "y"
        },
        {
         "hovertemplate": "track_name=Tennessee Numbers<br>WeekDate=%{x}<br>streams=%{y}<extra></extra>",
         "legendgroup": "Tennessee Numbers",
         "line": {
          "color": "#636efa",
          "dash": "solid"
         },
         "marker": {
          "symbol": "circle"
         },
         "mode": "lines+markers",
         "name": "Tennessee Numbers",
         "orientation": "v",
         "showlegend": true,
         "type": "scatter",
         "x": [
          "2023-03-16",
          "2023-03-09"
         ],
         "xaxis": "x",
         "y": [
          2664095,
          5731082
         ],
         "yaxis": "y"
        },
        {
         "hovertemplate": "track_name=Tennessee Fan<br>WeekDate=%{x}<br>streams=%{y}<extra></extra>",
         "legendgroup": "Tennessee Fan",
         "line": {
          "color": "#EF553B",
          "dash": "solid"
         },
         "marker": {
          "symbol": "circle"
         },
         "mode": "lines+markers",
         "name": "Tennessee Fan",
         "orientation": "v",
         "showlegend": true,
         "type": "scatter",
         "x": [
          "2023-03-16",
          "2023-03-09",
          "2022-12-08"
         ],
         "xaxis": "x",
         "y": [
          2686614,
          4599553,
          4775200
         ],
         "yaxis": "y"
        },
        {
         "hovertemplate": "track_name=Devil Don’t Know<br>WeekDate=%{x}<br>streams=%{y}<extra></extra>",
         "legendgroup": "Devil Don’t Know",
         "line": {
          "color": "#00cc96",
          "dash": "solid"
         },
         "marker": {
          "symbol": "circle"
         },
         "mode": "lines+markers",
         "name": "Devil Don’t Know",
         "orientation": "v",
         "showlegend": true,
         "type": "scatter",
         "x": [
          "2023-03-16",
          "2023-03-09"
         ],
         "xaxis": "x",
         "y": [
          2932056,
          6487121
         ],
         "yaxis": "y"
        },
        {
         "hovertemplate": "track_name=Last Drive Down Main<br>WeekDate=%{x}<br>streams=%{y}<extra></extra>",
         "legendgroup": "Last Drive Down Main",
         "line": {
          "color": "#ab63fa",
          "dash": "solid"
         },
         "marker": {
          "symbol": "circle"
         },
         "mode": "lines+markers",
         "name": "Last Drive Down Main",
         "orientation": "v",
         "showlegend": true,
         "type": "scatter",
         "x": [
          "2023-03-09"
         ],
         "xaxis": "x",
         "y": [
          3786733
         ],
         "yaxis": "y"
        },
        {
         "hovertemplate": "track_name=Don't Think Jesus<br>WeekDate=%{x}<br>streams=%{y}<extra></extra>",
         "legendgroup": "Don't Think Jesus",
         "line": {
          "color": "#FFA15A",
          "dash": "solid"
         },
         "marker": {
          "symbol": "circle"
         },
         "mode": "lines+markers",
         "name": "Don't Think Jesus",
         "orientation": "v",
         "showlegend": true,
         "type": "scatter",
         "x": [
          "2023-03-09",
          "2022-05-19",
          "2022-05-12",
          "2022-05-05",
          "2022-04-28",
          "2022-04-21"
         ],
         "xaxis": "x",
         "y": [
          3607812,
          2560345,
          2919323,
          3033461,
          3533433,
          6189833
         ],
         "yaxis": "y"
        },
        {
         "hovertemplate": "track_name=Good Girl Gone Missin’<br>WeekDate=%{x}<br>streams=%{y}<extra></extra>",
         "legendgroup": "Good Girl Gone Missin’",
         "line": {
          "color": "#19d3f3",
          "dash": "solid"
         },
         "marker": {
          "symbol": "circle"
         },
         "mode": "lines+markers",
         "name": "Good Girl Gone Missin’",
         "orientation": "v",
         "showlegend": true,
         "type": "scatter",
         "x": [
          "2023-03-09"
         ],
         "xaxis": "x",
         "y": [
          3673858
         ],
         "yaxis": "y"
        },
        {
         "hovertemplate": "track_name=Money On Me<br>WeekDate=%{x}<br>streams=%{y}<extra></extra>",
         "legendgroup": "Money On Me",
         "line": {
          "color": "#FF6692",
          "dash": "solid"
         },
         "marker": {
          "symbol": "circle"
         },
         "mode": "lines+markers",
         "name": "Money On Me",
         "orientation": "v",
         "showlegend": true,
         "type": "scatter",
         "x": [
          "2023-03-09"
         ],
         "xaxis": "x",
         "y": [
          3746164
         ],
         "yaxis": "y"
        },
        {
         "hovertemplate": "track_name=180 (Lifestyle)<br>WeekDate=%{x}<br>streams=%{y}<extra></extra>",
         "legendgroup": "180 (Lifestyle)",
         "line": {
          "color": "#B6E880",
          "dash": "solid"
         },
         "marker": {
          "symbol": "circle"
         },
         "mode": "lines+markers",
         "name": "180 (Lifestyle)",
         "orientation": "v",
         "showlegend": true,
         "type": "scatter",
         "x": [
          "2023-03-09"
         ],
         "xaxis": "x",
         "y": [
          3791776
         ],
         "yaxis": "y"
        },
        {
         "hovertemplate": "track_name=Me To Me<br>WeekDate=%{x}<br>streams=%{y}<extra></extra>",
         "legendgroup": "Me To Me",
         "line": {
          "color": "#FF97FF",
          "dash": "solid"
         },
         "marker": {
          "symbol": "circle"
         },
         "mode": "lines+markers",
         "name": "Me To Me",
         "orientation": "v",
         "showlegend": true,
         "type": "scatter",
         "x": [
          "2023-03-09"
         ],
         "xaxis": "x",
         "y": [
          3827492
         ],
         "yaxis": "y"
        },
        {
         "hovertemplate": "track_name=Days That End In Why<br>WeekDate=%{x}<br>streams=%{y}<extra></extra>",
         "legendgroup": "Days That End In Why",
         "line": {
          "color": "#FECB52",
          "dash": "solid"
         },
         "marker": {
          "symbol": "circle"
         },
         "mode": "lines+markers",
         "name": "Days That End In Why",
         "orientation": "v",
         "showlegend": true,
         "type": "scatter",
         "x": [
          "2023-03-09",
          "2022-12-08"
         ],
         "xaxis": "x",
         "y": [
          4123441,
          3862840
         ],
         "yaxis": "y"
        },
        {
         "hovertemplate": "track_name=Wine Into Water<br>WeekDate=%{x}<br>streams=%{y}<extra></extra>",
         "legendgroup": "Wine Into Water",
         "line": {
          "color": "#636efa",
          "dash": "solid"
         },
         "marker": {
          "symbol": "circle"
         },
         "mode": "lines+markers",
         "name": "Wine Into Water",
         "orientation": "v",
         "showlegend": true,
         "type": "scatter",
         "x": [
          "2023-03-09"
         ],
         "xaxis": "x",
         "y": [
          4125270
         ],
         "yaxis": "y"
        },
        {
         "hovertemplate": "track_name=Single Than She Was<br>WeekDate=%{x}<br>streams=%{y}<extra></extra>",
         "legendgroup": "Single Than She Was",
         "line": {
          "color": "#EF553B",
          "dash": "solid"
         },
         "marker": {
          "symbol": "circle"
         },
         "mode": "lines+markers",
         "name": "Single Than She Was",
         "orientation": "v",
         "showlegend": true,
         "type": "scatter",
         "x": [
          "2023-03-09"
         ],
         "xaxis": "x",
         "y": [
          4447126
         ],
         "yaxis": "y"
        },
        {
         "hovertemplate": "track_name=Outlook<br>WeekDate=%{x}<br>streams=%{y}<extra></extra>",
         "legendgroup": "Outlook",
         "line": {
          "color": "#00cc96",
          "dash": "solid"
         },
         "marker": {
          "symbol": "circle"
         },
         "mode": "lines+markers",
         "name": "Outlook",
         "orientation": "v",
         "showlegend": true,
         "type": "scatter",
         "x": [
          "2023-03-09"
         ],
         "xaxis": "x",
         "y": [
          3295984
         ],
         "yaxis": "y"
        },
        {
         "hovertemplate": "track_name=Had It<br>WeekDate=%{x}<br>streams=%{y}<extra></extra>",
         "legendgroup": "Had It",
         "line": {
          "color": "#ab63fa",
          "dash": "solid"
         },
         "marker": {
          "symbol": "circle"
         },
         "mode": "lines+markers",
         "name": "Had It",
         "orientation": "v",
         "showlegend": true,
         "type": "scatter",
         "x": [
          "2023-03-09"
         ],
         "xaxis": "x",
         "y": [
          3302393
         ],
         "yaxis": "y"
        },
        {
         "hovertemplate": "track_name=Hope That’s True<br>WeekDate=%{x}<br>streams=%{y}<extra></extra>",
         "legendgroup": "Hope That’s True",
         "line": {
          "color": "#FFA15A",
          "dash": "solid"
         },
         "marker": {
          "symbol": "circle"
         },
         "mode": "lines+markers",
         "name": "Hope That’s True",
         "orientation": "v",
         "showlegend": true,
         "type": "scatter",
         "x": [
          "2023-03-09"
         ],
         "xaxis": "x",
         "y": [
          5565585
         ],
         "yaxis": "y"
        },
        {
         "hovertemplate": "track_name=F150-50<br>WeekDate=%{x}<br>streams=%{y}<extra></extra>",
         "legendgroup": "F150-50",
         "line": {
          "color": "#19d3f3",
          "dash": "solid"
         },
         "marker": {
          "symbol": "circle"
         },
         "mode": "lines+markers",
         "name": "F150-50",
         "orientation": "v",
         "showlegend": true,
         "type": "scatter",
         "x": [
          "2023-03-09"
         ],
         "xaxis": "x",
         "y": [
          4524110
         ],
         "yaxis": "y"
        },
        {
         "hovertemplate": "track_name=Me + All Your Reasons<br>WeekDate=%{x}<br>streams=%{y}<extra></extra>",
         "legendgroup": "Me + All Your Reasons",
         "line": {
          "color": "#FF6692",
          "dash": "solid"
         },
         "marker": {
          "symbol": "circle"
         },
         "mode": "lines+markers",
         "name": "Me + All Your Reasons",
         "orientation": "v",
         "showlegend": true,
         "type": "scatter",
         "x": [
          "2023-03-09"
         ],
         "xaxis": "x",
         "y": [
          4543107
         ],
         "yaxis": "y"
        },
        {
         "hovertemplate": "track_name=I Deserve A Drink<br>WeekDate=%{x}<br>streams=%{y}<extra></extra>",
         "legendgroup": "I Deserve A Drink",
         "line": {
          "color": "#B6E880",
          "dash": "solid"
         },
         "marker": {
          "symbol": "circle"
         },
         "mode": "lines+markers",
         "name": "I Deserve A Drink",
         "orientation": "v",
         "showlegend": true,
         "type": "scatter",
         "x": [
          "2023-03-09"
         ],
         "xaxis": "x",
         "y": [
          4588224
         ],
         "yaxis": "y"
        },
        {
         "hovertemplate": "track_name=Neon Star (Country Boy Lullaby)<br>WeekDate=%{x}<br>streams=%{y}<extra></extra>",
         "legendgroup": "Neon Star (Country Boy Lullaby)",
         "line": {
          "color": "#FF97FF",
          "dash": "solid"
         },
         "marker": {
          "symbol": "circle"
         },
         "mode": "lines+markers",
         "name": "Neon Star (Country Boy Lullaby)",
         "orientation": "v",
         "showlegend": true,
         "type": "scatter",
         "x": [
          "2023-03-09"
         ],
         "xaxis": "x",
         "y": [
          4986259
         ],
         "yaxis": "y"
        },
        {
         "hovertemplate": "track_name=Keith Whitley<br>WeekDate=%{x}<br>streams=%{y}<extra></extra>",
         "legendgroup": "Keith Whitley",
         "line": {
          "color": "#FECB52",
          "dash": "solid"
         },
         "marker": {
          "symbol": "circle"
         },
         "mode": "lines+markers",
         "name": "Keith Whitley",
         "orientation": "v",
         "showlegend": true,
         "type": "scatter",
         "x": [
          "2023-03-09"
         ],
         "xaxis": "x",
         "y": [
          5076634
         ],
         "yaxis": "y"
        },
        {
         "hovertemplate": "track_name=In The Bible (feat. HARDY)<br>WeekDate=%{x}<br>streams=%{y}<extra></extra>",
         "legendgroup": "In The Bible (feat. HARDY)",
         "line": {
          "color": "#636efa",
          "dash": "solid"
         },
         "marker": {
          "symbol": "circle"
         },
         "mode": "lines+markers",
         "name": "In The Bible (feat. HARDY)",
         "orientation": "v",
         "showlegend": true,
         "type": "scatter",
         "x": [
          "2023-03-09"
         ],
         "xaxis": "x",
         "y": [
          5094670
         ],
         "yaxis": "y"
        },
        {
         "hovertemplate": "track_name=red (feat. Morgan Wallen)<br>WeekDate=%{x}<br>streams=%{y}<extra></extra>",
         "legendgroup": "red (feat. Morgan Wallen)",
         "line": {
          "color": "#EF553B",
          "dash": "solid"
         },
         "marker": {
          "symbol": "circle"
         },
         "mode": "lines+markers",
         "name": "red (feat. Morgan Wallen)",
         "orientation": "v",
         "showlegend": true,
         "type": "scatter",
         "x": [
          "2023-01-26"
         ],
         "xaxis": "x",
         "y": [
          2418055
         ],
         "yaxis": "y"
        },
        {
         "hovertemplate": "track_name=Flower Shops (feat. Morgan Wallen)<br>WeekDate=%{x}<br>streams=%{y}<extra></extra>",
         "legendgroup": "Flower Shops (feat. Morgan Wallen)",
         "line": {
          "color": "#00cc96",
          "dash": "solid"
         },
         "marker": {
          "symbol": "circle"
         },
         "mode": "lines+markers",
         "name": "Flower Shops (feat. Morgan Wallen)",
         "orientation": "v",
         "showlegend": true,
         "type": "scatter",
         "x": [
          "2022-08-25",
          "2022-01-06"
         ],
         "xaxis": "x",
         "y": [
          2183555,
          2415300
         ],
         "yaxis": "y"
        },
        {
         "hovertemplate": "track_name=Broadway Girls (feat. Morgan Wallen)<br>WeekDate=%{x}<br>streams=%{y}<extra></extra>",
         "legendgroup": "Broadway Girls (feat. Morgan Wallen)",
         "line": {
          "color": "#ab63fa",
          "dash": "solid"
         },
         "marker": {
          "symbol": "circle"
         },
         "mode": "lines+markers",
         "name": "Broadway Girls (feat. Morgan Wallen)",
         "orientation": "v",
         "showlegend": true,
         "type": "scatter",
         "x": [
          "2022-07-28",
          "2022-07-21",
          "2022-07-14",
          "2022-07-07",
          "2022-06-30",
          "2022-06-23",
          "2022-06-16",
          "2022-06-02",
          "2022-05-26",
          "2022-05-19",
          "2022-05-12",
          "2022-05-05",
          "2022-04-28",
          "2022-04-21",
          "2022-04-14",
          "2022-04-07",
          "2022-03-31",
          "2022-03-24",
          "2022-03-17",
          "2022-03-10",
          "2022-03-03",
          "2022-02-24",
          "2022-02-17",
          "2022-02-10",
          "2022-02-03",
          "2022-01-27",
          "2022-01-20",
          "2022-01-13",
          "2022-01-06",
          "2021-12-30",
          "2021-12-23"
         ],
         "xaxis": "x",
         "y": [
          1942062,
          2031879,
          2137702,
          2213866,
          2286138,
          2275785,
          2280763,
          2407714,
          2404102,
          2730093,
          2654490,
          2458289,
          2535254,
          2712730,
          2698632,
          2548352,
          2608248,
          2727023,
          2979333,
          2563299,
          2603689,
          2597013,
          2810608,
          2934815,
          3078712,
          3220382,
          3430832,
          3803892,
          4046228,
          4750575,
          7076984
         ],
         "yaxis": "y"
        },
        {
         "hovertemplate": "track_name=Sand In My Boots<br>WeekDate=%{x}<br>streams=%{y}<extra></extra>",
         "legendgroup": "Sand In My Boots",
         "line": {
          "color": "#FFA15A",
          "dash": "solid"
         },
         "marker": {
          "symbol": "circle"
         },
         "mode": "lines+markers",
         "name": "Sand In My Boots",
         "orientation": "v",
         "showlegend": true,
         "type": "scatter",
         "x": [
          "2022-04-28",
          "2022-04-21",
          "2021-03-25",
          "2021-03-18",
          "2021-03-11",
          "2021-03-04",
          "2021-02-25",
          "2021-02-18",
          "2021-02-11",
          "2021-02-04",
          "2021-01-28",
          "2021-01-21",
          "2021-01-14"
         ],
         "xaxis": "x",
         "y": [
          2096895,
          2074338,
          2034480,
          2134909,
          2392075,
          2570897,
          2742647,
          2871666,
          3783529,
          3732464,
          3878587,
          3717070,
          4667579
         ],
         "yaxis": "y"
        },
        {
         "hovertemplate": "track_name=Somebody’s Problem<br>WeekDate=%{x}<br>streams=%{y}<extra></extra>",
         "legendgroup": "Somebody’s Problem",
         "line": {
          "color": "#19d3f3",
          "dash": "solid"
         },
         "marker": {
          "symbol": "circle"
         },
         "mode": "lines+markers",
         "name": "Somebody’s Problem",
         "orientation": "v",
         "showlegend": true,
         "type": "scatter",
         "x": [
          "2021-03-18",
          "2021-03-11",
          "2021-03-04",
          "2021-02-25",
          "2021-02-18",
          "2021-02-11",
          "2021-02-04",
          "2021-01-28",
          "2021-01-21",
          "2021-01-14",
          "2021-01-07",
          "2020-12-31",
          "2020-12-10",
          "2020-12-03",
          "2020-11-26"
         ],
         "xaxis": "x",
         "y": [
          1900543,
          2094167,
          2226023,
          2397102,
          2605548,
          3479801,
          3908144,
          4380908,
          4434637,
          6064009,
          2587814,
          2412058,
          2402679,
          2720935,
          5470955
         ],
         "yaxis": "y"
        },
        {
         "hovertemplate": "track_name=More Than My Hometown<br>WeekDate=%{x}<br>streams=%{y}<extra></extra>",
         "legendgroup": "More Than My Hometown",
         "line": {
          "color": "#FF6692",
          "dash": "solid"
         },
         "marker": {
          "symbol": "circle"
         },
         "mode": "lines+markers",
         "name": "More Than My Hometown",
         "orientation": "v",
         "showlegend": true,
         "type": "scatter",
         "x": [
          "2021-03-11",
          "2021-03-04",
          "2021-02-25",
          "2021-02-18",
          "2021-02-11",
          "2021-02-04",
          "2021-01-28",
          "2021-01-21",
          "2021-01-14",
          "2021-01-07",
          "2020-11-26",
          "2020-11-19",
          "2020-11-05",
          "2020-10-29",
          "2020-10-22",
          "2020-10-15",
          "2020-09-24",
          "2020-09-17",
          "2020-09-10",
          "2020-09-03",
          "2020-08-27",
          "2020-08-20",
          "2020-05-28",
          "2020-04-23"
         ],
         "xaxis": "x",
         "y": [
          1948312,
          1998177,
          2062208,
          2071549,
          2614014,
          2995728,
          2967490,
          3338353,
          4051549,
          2173260,
          2501225,
          2029551,
          2024279,
          1992098,
          2115274,
          2173995,
          2082898,
          2196303,
          2211907,
          2238981,
          2103837,
          2360075,
          2013409,
          2627370
         ],
         "yaxis": "y"
        },
        {
         "hovertemplate": "track_name=7 Summers<br>WeekDate=%{x}<br>streams=%{y}<extra></extra>",
         "legendgroup": "7 Summers",
         "line": {
          "color": "#B6E880",
          "dash": "solid"
         },
         "marker": {
          "symbol": "circle"
         },
         "mode": "lines+markers",
         "name": "7 Summers",
         "orientation": "v",
         "showlegend": true,
         "type": "scatter",
         "x": [
          "2021-03-11",
          "2021-03-04",
          "2021-02-25",
          "2021-02-18",
          "2021-02-11",
          "2021-02-04",
          "2021-01-28",
          "2021-01-21",
          "2021-01-14",
          "2021-01-07",
          "2020-12-10",
          "2020-12-03",
          "2020-11-26",
          "2020-11-19",
          "2020-11-12",
          "2020-11-05",
          "2020-10-29",
          "2020-10-22",
          "2020-10-15",
          "2020-10-08",
          "2020-10-01",
          "2020-09-24",
          "2020-09-17",
          "2020-09-10",
          "2020-09-03",
          "2020-08-27",
          "2020-08-20"
         ],
         "xaxis": "x",
         "y": [
          1941672,
          1996794,
          2063792,
          2088303,
          2657382,
          2986990,
          3251535,
          3423982,
          4252188,
          2126292,
          2249665,
          2259277,
          2819023,
          2186082,
          2161532,
          2144699,
          2697625,
          2365776,
          2573861,
          2667591,
          2788504,
          3287254,
          3620160,
          3374019,
          3821306,
          4610036,
          8633854
         ],
         "yaxis": "y"
        },
        {
         "hovertemplate": "track_name=Cover Me Up<br>WeekDate=%{x}<br>streams=%{y}<extra></extra>",
         "legendgroup": "Cover Me Up",
         "line": {
          "color": "#FF97FF",
          "dash": "solid"
         },
         "marker": {
          "symbol": "circle"
         },
         "mode": "lines+markers",
         "name": "Cover Me Up",
         "orientation": "v",
         "showlegend": true,
         "type": "scatter",
         "x": [
          "2021-03-04",
          "2021-02-25",
          "2021-02-18",
          "2021-02-11",
          "2021-02-04",
          "2021-01-28",
          "2021-01-21",
          "2021-01-14"
         ],
         "xaxis": "x",
         "y": [
          1857174,
          1925084,
          1929159,
          2324373,
          2319175,
          2353372,
          2746843,
          3652437
         ],
         "yaxis": "y"
        },
        {
         "hovertemplate": "track_name=865<br>WeekDate=%{x}<br>streams=%{y}<extra></extra>",
         "legendgroup": "865",
         "line": {
          "color": "#FECB52",
          "dash": "solid"
         },
         "marker": {
          "symbol": "circle"
         },
         "mode": "lines+markers",
         "name": "865",
         "orientation": "v",
         "showlegend": true,
         "type": "scatter",
         "x": [
          "2021-02-18",
          "2021-02-11",
          "2021-02-04",
          "2021-01-28",
          "2021-01-21",
          "2021-01-14"
         ],
         "xaxis": "x",
         "y": [
          1852661,
          2447762,
          2525986,
          2372292,
          2956139,
          4472000
         ],
         "yaxis": "y"
        },
        {
         "hovertemplate": "track_name=Dangerous<br>WeekDate=%{x}<br>streams=%{y}<extra></extra>",
         "legendgroup": "Dangerous",
         "line": {
          "color": "#636efa",
          "dash": "solid"
         },
         "marker": {
          "symbol": "circle"
         },
         "mode": "lines+markers",
         "name": "Dangerous",
         "orientation": "v",
         "showlegend": true,
         "type": "scatter",
         "x": [
          "2021-02-11",
          "2021-02-04",
          "2021-01-21",
          "2021-01-14"
         ],
         "xaxis": "x",
         "y": [
          2106097,
          2066299,
          2188449,
          3372238
         ],
         "yaxis": "y"
        },
        {
         "hovertemplate": "track_name=Warning<br>WeekDate=%{x}<br>streams=%{y}<extra></extra>",
         "legendgroup": "Warning",
         "line": {
          "color": "#EF553B",
          "dash": "solid"
         },
         "marker": {
          "symbol": "circle"
         },
         "mode": "lines+markers",
         "name": "Warning",
         "orientation": "v",
         "showlegend": true,
         "type": "scatter",
         "x": [
          "2021-02-11",
          "2021-02-04",
          "2021-01-28",
          "2021-01-21",
          "2021-01-14"
         ],
         "xaxis": "x",
         "y": [
          1920533,
          2027916,
          2044068,
          2624994,
          4209165
         ],
         "yaxis": "y"
        },
        {
         "hovertemplate": "track_name=Still Goin Down<br>WeekDate=%{x}<br>streams=%{y}<extra></extra>",
         "legendgroup": "Still Goin Down",
         "line": {
          "color": "#00cc96",
          "dash": "solid"
         },
         "marker": {
          "symbol": "circle"
         },
         "mode": "lines+markers",
         "name": "Still Goin Down",
         "orientation": "v",
         "showlegend": true,
         "type": "scatter",
         "x": [
          "2021-02-11",
          "2021-02-04",
          "2021-01-28",
          "2021-01-21",
          "2021-01-14",
          "2020-11-26"
         ],
         "xaxis": "x",
         "y": [
          2177927,
          2519278,
          2591208,
          2976542,
          3632999,
          3202925
         ],
         "yaxis": "y"
        },
        {
         "hovertemplate": "track_name=Livin’ The Dream<br>WeekDate=%{x}<br>streams=%{y}<extra></extra>",
         "legendgroup": "Livin’ The Dream",
         "line": {
          "color": "#ab63fa",
          "dash": "solid"
         },
         "marker": {
          "symbol": "circle"
         },
         "mode": "lines+markers",
         "name": "Livin’ The Dream",
         "orientation": "v",
         "showlegend": true,
         "type": "scatter",
         "x": [
          "2021-01-21",
          "2021-01-14",
          "2020-11-26"
         ],
         "xaxis": "x",
         "y": [
          2330824,
          3607669,
          2260199
         ],
         "yaxis": "y"
        },
        {
         "hovertemplate": "track_name=More Surprised Than Me<br>WeekDate=%{x}<br>streams=%{y}<extra></extra>",
         "legendgroup": "More Surprised Than Me",
         "line": {
          "color": "#FFA15A",
          "dash": "solid"
         },
         "marker": {
          "symbol": "circle"
         },
         "mode": "lines+markers",
         "name": "More Surprised Than Me",
         "orientation": "v",
         "showlegend": true,
         "type": "scatter",
         "x": [
          "2021-01-21",
          "2021-01-14"
         ],
         "xaxis": "x",
         "y": [
          2134288,
          3518214
         ],
         "yaxis": "y"
        },
        {
         "hovertemplate": "track_name=Neon Eyes<br>WeekDate=%{x}<br>streams=%{y}<extra></extra>",
         "legendgroup": "Neon Eyes",
         "line": {
          "color": "#19d3f3",
          "dash": "solid"
         },
         "marker": {
          "symbol": "circle"
         },
         "mode": "lines+markers",
         "name": "Neon Eyes",
         "orientation": "v",
         "showlegend": true,
         "type": "scatter",
         "x": [
          "2021-01-21",
          "2021-01-14"
         ],
         "xaxis": "x",
         "y": [
          2148376,
          3559514
         ],
         "yaxis": "y"
        },
        {
         "hovertemplate": "track_name=Outlaw (feat. Ben Burgess)<br>WeekDate=%{x}<br>streams=%{y}<extra></extra>",
         "legendgroup": "Outlaw (feat. Ben Burgess)",
         "line": {
          "color": "#FF6692",
          "dash": "solid"
         },
         "marker": {
          "symbol": "circle"
         },
         "mode": "lines+markers",
         "name": "Outlaw (feat. Ben Burgess)",
         "orientation": "v",
         "showlegend": true,
         "type": "scatter",
         "x": [
          "2021-01-14"
         ],
         "xaxis": "x",
         "y": [
          3081474
         ],
         "yaxis": "y"
        },
        {
         "hovertemplate": "track_name=Whiskey’d My Way<br>WeekDate=%{x}<br>streams=%{y}<extra></extra>",
         "legendgroup": "Whiskey’d My Way",
         "line": {
          "color": "#B6E880",
          "dash": "solid"
         },
         "marker": {
          "symbol": "circle"
         },
         "mode": "lines+markers",
         "name": "Whiskey’d My Way",
         "orientation": "v",
         "showlegend": true,
         "type": "scatter",
         "x": [
          "2021-01-14"
         ],
         "xaxis": "x",
         "y": [
          3063159
         ],
         "yaxis": "y"
        },
        {
         "hovertemplate": "track_name=Your Bartender<br>WeekDate=%{x}<br>streams=%{y}<extra></extra>",
         "legendgroup": "Your Bartender",
         "line": {
          "color": "#FF97FF",
          "dash": "solid"
         },
         "marker": {
          "symbol": "circle"
         },
         "mode": "lines+markers",
         "name": "Your Bartender",
         "orientation": "v",
         "showlegend": true,
         "type": "scatter",
         "x": [
          "2021-01-14"
         ],
         "xaxis": "x",
         "y": [
          3046624
         ],
         "yaxis": "y"
        },
        {
         "hovertemplate": "track_name=Wonderin’ Bout The Wind<br>WeekDate=%{x}<br>streams=%{y}<extra></extra>",
         "legendgroup": "Wonderin’ Bout The Wind",
         "line": {
          "color": "#FECB52",
          "dash": "solid"
         },
         "marker": {
          "symbol": "circle"
         },
         "mode": "lines+markers",
         "name": "Wonderin’ Bout The Wind",
         "orientation": "v",
         "showlegend": true,
         "type": "scatter",
         "x": [
          "2021-01-14"
         ],
         "xaxis": "x",
         "y": [
          2952293
         ],
         "yaxis": "y"
        },
        {
         "hovertemplate": "track_name=Blame It On Me<br>WeekDate=%{x}<br>streams=%{y}<extra></extra>",
         "legendgroup": "Blame It On Me",
         "line": {
          "color": "#636efa",
          "dash": "solid"
         },
         "marker": {
          "symbol": "circle"
         },
         "mode": "lines+markers",
         "name": "Blame It On Me",
         "orientation": "v",
         "showlegend": true,
         "type": "scatter",
         "x": [
          "2021-01-14"
         ],
         "xaxis": "x",
         "y": [
          2245714
         ],
         "yaxis": "y"
        },
        {
         "hovertemplate": "track_name=Me On Whiskey<br>WeekDate=%{x}<br>streams=%{y}<extra></extra>",
         "legendgroup": "Me On Whiskey",
         "line": {
          "color": "#EF553B",
          "dash": "solid"
         },
         "marker": {
          "symbol": "circle"
         },
         "mode": "lines+markers",
         "name": "Me On Whiskey",
         "orientation": "v",
         "showlegend": true,
         "type": "scatter",
         "x": [
          "2021-01-14"
         ],
         "xaxis": "x",
         "y": [
          2238855
         ],
         "yaxis": "y"
        },
        {
         "hovertemplate": "track_name=Beer Don’t<br>WeekDate=%{x}<br>streams=%{y}<extra></extra>",
         "legendgroup": "Beer Don’t",
         "line": {
          "color": "#00cc96",
          "dash": "solid"
         },
         "marker": {
          "symbol": "circle"
         },
         "mode": "lines+markers",
         "name": "Beer Don’t",
         "orientation": "v",
         "showlegend": true,
         "type": "scatter",
         "x": [
          "2021-01-14"
         ],
         "xaxis": "x",
         "y": [
          2236406
         ],
         "yaxis": "y"
        },
        {
         "hovertemplate": "track_name=Silverado For Sale<br>WeekDate=%{x}<br>streams=%{y}<extra></extra>",
         "legendgroup": "Silverado For Sale",
         "line": {
          "color": "#ab63fa",
          "dash": "solid"
         },
         "marker": {
          "symbol": "circle"
         },
         "mode": "lines+markers",
         "name": "Silverado For Sale",
         "orientation": "v",
         "showlegend": true,
         "type": "scatter",
         "x": [
          "2021-01-14"
         ],
         "xaxis": "x",
         "y": [
          2226410
         ],
         "yaxis": "y"
        },
        {
         "hovertemplate": "track_name=Rednecks, Red Letters, Red Dirt<br>WeekDate=%{x}<br>streams=%{y}<extra></extra>",
         "legendgroup": "Rednecks, Red Letters, Red Dirt",
         "line": {
          "color": "#FFA15A",
          "dash": "solid"
         },
         "marker": {
          "symbol": "circle"
         },
         "mode": "lines+markers",
         "name": "Rednecks, Red Letters, Red Dirt",
         "orientation": "v",
         "showlegend": true,
         "type": "scatter",
         "x": [
          "2021-01-14"
         ],
         "xaxis": "x",
         "y": [
          2177350
         ],
         "yaxis": "y"
        },
        {
         "hovertemplate": "track_name=Only Thing That’s Gone (feat. Chris Stapleton)<br>WeekDate=%{x}<br>streams=%{y}<extra></extra>",
         "legendgroup": "Only Thing That’s Gone (feat. Chris Stapleton)",
         "line": {
          "color": "#19d3f3",
          "dash": "solid"
         },
         "marker": {
          "symbol": "circle"
         },
         "mode": "lines+markers",
         "name": "Only Thing That’s Gone (feat. Chris Stapleton)",
         "orientation": "v",
         "showlegend": true,
         "type": "scatter",
         "x": [
          "2021-01-14"
         ],
         "xaxis": "x",
         "y": [
          2824234
         ],
         "yaxis": "y"
        },
        {
         "hovertemplate": "track_name=This Bar<br>WeekDate=%{x}<br>streams=%{y}<extra></extra>",
         "legendgroup": "This Bar",
         "line": {
          "color": "#FF6692",
          "dash": "solid"
         },
         "marker": {
          "symbol": "circle"
         },
         "mode": "lines+markers",
         "name": "This Bar",
         "orientation": "v",
         "showlegend": true,
         "type": "scatter",
         "x": [
          "2021-01-14"
         ],
         "xaxis": "x",
         "y": [
          2685069
         ],
         "yaxis": "y"
        },
        {
         "hovertemplate": "track_name=Heartless (feat. Morgan Wallen)<br>WeekDate=%{x}<br>streams=%{y}<extra></extra>",
         "legendgroup": "Heartless (feat. Morgan Wallen)",
         "line": {
          "color": "#B6E880",
          "dash": "solid"
         },
         "marker": {
          "symbol": "circle"
         },
         "mode": "lines+markers",
         "name": "Heartless (feat. Morgan Wallen)",
         "orientation": "v",
         "showlegend": true,
         "type": "scatter",
         "x": [
          "2020-08-20",
          "2020-07-23",
          "2020-07-16",
          "2020-07-09",
          "2020-06-11",
          "2020-06-04",
          "2020-05-28",
          "2020-05-21"
         ],
         "xaxis": "x",
         "y": [
          2198651,
          2359081,
          2227158,
          2189670,
          1939636,
          1996224,
          2156367,
          2505637
         ],
         "yaxis": "y"
        }
       ],
       "layout": {
        "legend": {
         "title": {
          "text": "track_name"
         },
         "tracegroupgap": 0
        },
        "template": {
         "data": {
          "bar": [
           {
            "error_x": {
             "color": "#2a3f5f"
            },
            "error_y": {
             "color": "#2a3f5f"
            },
            "marker": {
             "line": {
              "color": "#E5ECF6",
              "width": 0.5
             },
             "pattern": {
              "fillmode": "overlay",
              "size": 10,
              "solidity": 0.2
             }
            },
            "type": "bar"
           }
          ],
          "barpolar": [
           {
            "marker": {
             "line": {
              "color": "#E5ECF6",
              "width": 0.5
             },
             "pattern": {
              "fillmode": "overlay",
              "size": 10,
              "solidity": 0.2
             }
            },
            "type": "barpolar"
           }
          ],
          "carpet": [
           {
            "aaxis": {
             "endlinecolor": "#2a3f5f",
             "gridcolor": "white",
             "linecolor": "white",
             "minorgridcolor": "white",
             "startlinecolor": "#2a3f5f"
            },
            "baxis": {
             "endlinecolor": "#2a3f5f",
             "gridcolor": "white",
             "linecolor": "white",
             "minorgridcolor": "white",
             "startlinecolor": "#2a3f5f"
            },
            "type": "carpet"
           }
          ],
          "choropleth": [
           {
            "colorbar": {
             "outlinewidth": 0,
             "ticks": ""
            },
            "type": "choropleth"
           }
          ],
          "contour": [
           {
            "colorbar": {
             "outlinewidth": 0,
             "ticks": ""
            },
            "colorscale": [
             [
              0,
              "#0d0887"
             ],
             [
              0.1111111111111111,
              "#46039f"
             ],
             [
              0.2222222222222222,
              "#7201a8"
             ],
             [
              0.3333333333333333,
              "#9c179e"
             ],
             [
              0.4444444444444444,
              "#bd3786"
             ],
             [
              0.5555555555555556,
              "#d8576b"
             ],
             [
              0.6666666666666666,
              "#ed7953"
             ],
             [
              0.7777777777777778,
              "#fb9f3a"
             ],
             [
              0.8888888888888888,
              "#fdca26"
             ],
             [
              1,
              "#f0f921"
             ]
            ],
            "type": "contour"
           }
          ],
          "contourcarpet": [
           {
            "colorbar": {
             "outlinewidth": 0,
             "ticks": ""
            },
            "type": "contourcarpet"
           }
          ],
          "heatmap": [
           {
            "colorbar": {
             "outlinewidth": 0,
             "ticks": ""
            },
            "colorscale": [
             [
              0,
              "#0d0887"
             ],
             [
              0.1111111111111111,
              "#46039f"
             ],
             [
              0.2222222222222222,
              "#7201a8"
             ],
             [
              0.3333333333333333,
              "#9c179e"
             ],
             [
              0.4444444444444444,
              "#bd3786"
             ],
             [
              0.5555555555555556,
              "#d8576b"
             ],
             [
              0.6666666666666666,
              "#ed7953"
             ],
             [
              0.7777777777777778,
              "#fb9f3a"
             ],
             [
              0.8888888888888888,
              "#fdca26"
             ],
             [
              1,
              "#f0f921"
             ]
            ],
            "type": "heatmap"
           }
          ],
          "heatmapgl": [
           {
            "colorbar": {
             "outlinewidth": 0,
             "ticks": ""
            },
            "colorscale": [
             [
              0,
              "#0d0887"
             ],
             [
              0.1111111111111111,
              "#46039f"
             ],
             [
              0.2222222222222222,
              "#7201a8"
             ],
             [
              0.3333333333333333,
              "#9c179e"
             ],
             [
              0.4444444444444444,
              "#bd3786"
             ],
             [
              0.5555555555555556,
              "#d8576b"
             ],
             [
              0.6666666666666666,
              "#ed7953"
             ],
             [
              0.7777777777777778,
              "#fb9f3a"
             ],
             [
              0.8888888888888888,
              "#fdca26"
             ],
             [
              1,
              "#f0f921"
             ]
            ],
            "type": "heatmapgl"
           }
          ],
          "histogram": [
           {
            "marker": {
             "pattern": {
              "fillmode": "overlay",
              "size": 10,
              "solidity": 0.2
             }
            },
            "type": "histogram"
           }
          ],
          "histogram2d": [
           {
            "colorbar": {
             "outlinewidth": 0,
             "ticks": ""
            },
            "colorscale": [
             [
              0,
              "#0d0887"
             ],
             [
              0.1111111111111111,
              "#46039f"
             ],
             [
              0.2222222222222222,
              "#7201a8"
             ],
             [
              0.3333333333333333,
              "#9c179e"
             ],
             [
              0.4444444444444444,
              "#bd3786"
             ],
             [
              0.5555555555555556,
              "#d8576b"
             ],
             [
              0.6666666666666666,
              "#ed7953"
             ],
             [
              0.7777777777777778,
              "#fb9f3a"
             ],
             [
              0.8888888888888888,
              "#fdca26"
             ],
             [
              1,
              "#f0f921"
             ]
            ],
            "type": "histogram2d"
           }
          ],
          "histogram2dcontour": [
           {
            "colorbar": {
             "outlinewidth": 0,
             "ticks": ""
            },
            "colorscale": [
             [
              0,
              "#0d0887"
             ],
             [
              0.1111111111111111,
              "#46039f"
             ],
             [
              0.2222222222222222,
              "#7201a8"
             ],
             [
              0.3333333333333333,
              "#9c179e"
             ],
             [
              0.4444444444444444,
              "#bd3786"
             ],
             [
              0.5555555555555556,
              "#d8576b"
             ],
             [
              0.6666666666666666,
              "#ed7953"
             ],
             [
              0.7777777777777778,
              "#fb9f3a"
             ],
             [
              0.8888888888888888,
              "#fdca26"
             ],
             [
              1,
              "#f0f921"
             ]
            ],
            "type": "histogram2dcontour"
           }
          ],
          "mesh3d": [
           {
            "colorbar": {
             "outlinewidth": 0,
             "ticks": ""
            },
            "type": "mesh3d"
           }
          ],
          "parcoords": [
           {
            "line": {
             "colorbar": {
              "outlinewidth": 0,
              "ticks": ""
             }
            },
            "type": "parcoords"
           }
          ],
          "pie": [
           {
            "automargin": true,
            "type": "pie"
           }
          ],
          "scatter": [
           {
            "fillpattern": {
             "fillmode": "overlay",
             "size": 10,
             "solidity": 0.2
            },
            "type": "scatter"
           }
          ],
          "scatter3d": [
           {
            "line": {
             "colorbar": {
              "outlinewidth": 0,
              "ticks": ""
             }
            },
            "marker": {
             "colorbar": {
              "outlinewidth": 0,
              "ticks": ""
             }
            },
            "type": "scatter3d"
           }
          ],
          "scattercarpet": [
           {
            "marker": {
             "colorbar": {
              "outlinewidth": 0,
              "ticks": ""
             }
            },
            "type": "scattercarpet"
           }
          ],
          "scattergeo": [
           {
            "marker": {
             "colorbar": {
              "outlinewidth": 0,
              "ticks": ""
             }
            },
            "type": "scattergeo"
           }
          ],
          "scattergl": [
           {
            "marker": {
             "colorbar": {
              "outlinewidth": 0,
              "ticks": ""
             }
            },
            "type": "scattergl"
           }
          ],
          "scattermapbox": [
           {
            "marker": {
             "colorbar": {
              "outlinewidth": 0,
              "ticks": ""
             }
            },
            "type": "scattermapbox"
           }
          ],
          "scatterpolar": [
           {
            "marker": {
             "colorbar": {
              "outlinewidth": 0,
              "ticks": ""
             }
            },
            "type": "scatterpolar"
           }
          ],
          "scatterpolargl": [
           {
            "marker": {
             "colorbar": {
              "outlinewidth": 0,
              "ticks": ""
             }
            },
            "type": "scatterpolargl"
           }
          ],
          "scatterternary": [
           {
            "marker": {
             "colorbar": {
              "outlinewidth": 0,
              "ticks": ""
             }
            },
            "type": "scatterternary"
           }
          ],
          "surface": [
           {
            "colorbar": {
             "outlinewidth": 0,
             "ticks": ""
            },
            "colorscale": [
             [
              0,
              "#0d0887"
             ],
             [
              0.1111111111111111,
              "#46039f"
             ],
             [
              0.2222222222222222,
              "#7201a8"
             ],
             [
              0.3333333333333333,
              "#9c179e"
             ],
             [
              0.4444444444444444,
              "#bd3786"
             ],
             [
              0.5555555555555556,
              "#d8576b"
             ],
             [
              0.6666666666666666,
              "#ed7953"
             ],
             [
              0.7777777777777778,
              "#fb9f3a"
             ],
             [
              0.8888888888888888,
              "#fdca26"
             ],
             [
              1,
              "#f0f921"
             ]
            ],
            "type": "surface"
           }
          ],
          "table": [
           {
            "cells": {
             "fill": {
              "color": "#EBF0F8"
             },
             "line": {
              "color": "white"
             }
            },
            "header": {
             "fill": {
              "color": "#C8D4E3"
             },
             "line": {
              "color": "white"
             }
            },
            "type": "table"
           }
          ]
         },
         "layout": {
          "annotationdefaults": {
           "arrowcolor": "#2a3f5f",
           "arrowhead": 0,
           "arrowwidth": 1
          },
          "autotypenumbers": "strict",
          "coloraxis": {
           "colorbar": {
            "outlinewidth": 0,
            "ticks": ""
           }
          },
          "colorscale": {
           "diverging": [
            [
             0,
             "#8e0152"
            ],
            [
             0.1,
             "#c51b7d"
            ],
            [
             0.2,
             "#de77ae"
            ],
            [
             0.3,
             "#f1b6da"
            ],
            [
             0.4,
             "#fde0ef"
            ],
            [
             0.5,
             "#f7f7f7"
            ],
            [
             0.6,
             "#e6f5d0"
            ],
            [
             0.7,
             "#b8e186"
            ],
            [
             0.8,
             "#7fbc41"
            ],
            [
             0.9,
             "#4d9221"
            ],
            [
             1,
             "#276419"
            ]
           ],
           "sequential": [
            [
             0,
             "#0d0887"
            ],
            [
             0.1111111111111111,
             "#46039f"
            ],
            [
             0.2222222222222222,
             "#7201a8"
            ],
            [
             0.3333333333333333,
             "#9c179e"
            ],
            [
             0.4444444444444444,
             "#bd3786"
            ],
            [
             0.5555555555555556,
             "#d8576b"
            ],
            [
             0.6666666666666666,
             "#ed7953"
            ],
            [
             0.7777777777777778,
             "#fb9f3a"
            ],
            [
             0.8888888888888888,
             "#fdca26"
            ],
            [
             1,
             "#f0f921"
            ]
           ],
           "sequentialminus": [
            [
             0,
             "#0d0887"
            ],
            [
             0.1111111111111111,
             "#46039f"
            ],
            [
             0.2222222222222222,
             "#7201a8"
            ],
            [
             0.3333333333333333,
             "#9c179e"
            ],
            [
             0.4444444444444444,
             "#bd3786"
            ],
            [
             0.5555555555555556,
             "#d8576b"
            ],
            [
             0.6666666666666666,
             "#ed7953"
            ],
            [
             0.7777777777777778,
             "#fb9f3a"
            ],
            [
             0.8888888888888888,
             "#fdca26"
            ],
            [
             1,
             "#f0f921"
            ]
           ]
          },
          "colorway": [
           "#636efa",
           "#EF553B",
           "#00cc96",
           "#ab63fa",
           "#FFA15A",
           "#19d3f3",
           "#FF6692",
           "#B6E880",
           "#FF97FF",
           "#FECB52"
          ],
          "font": {
           "color": "#2a3f5f"
          },
          "geo": {
           "bgcolor": "white",
           "lakecolor": "white",
           "landcolor": "#E5ECF6",
           "showlakes": true,
           "showland": true,
           "subunitcolor": "white"
          },
          "hoverlabel": {
           "align": "left"
          },
          "hovermode": "closest",
          "mapbox": {
           "style": "light"
          },
          "paper_bgcolor": "white",
          "plot_bgcolor": "#E5ECF6",
          "polar": {
           "angularaxis": {
            "gridcolor": "white",
            "linecolor": "white",
            "ticks": ""
           },
           "bgcolor": "#E5ECF6",
           "radialaxis": {
            "gridcolor": "white",
            "linecolor": "white",
            "ticks": ""
           }
          },
          "scene": {
           "xaxis": {
            "backgroundcolor": "#E5ECF6",
            "gridcolor": "white",
            "gridwidth": 2,
            "linecolor": "white",
            "showbackground": true,
            "ticks": "",
            "zerolinecolor": "white"
           },
           "yaxis": {
            "backgroundcolor": "#E5ECF6",
            "gridcolor": "white",
            "gridwidth": 2,
            "linecolor": "white",
            "showbackground": true,
            "ticks": "",
            "zerolinecolor": "white"
           },
           "zaxis": {
            "backgroundcolor": "#E5ECF6",
            "gridcolor": "white",
            "gridwidth": 2,
            "linecolor": "white",
            "showbackground": true,
            "ticks": "",
            "zerolinecolor": "white"
           }
          },
          "shapedefaults": {
           "line": {
            "color": "#2a3f5f"
           }
          },
          "ternary": {
           "aaxis": {
            "gridcolor": "white",
            "linecolor": "white",
            "ticks": ""
           },
           "baxis": {
            "gridcolor": "white",
            "linecolor": "white",
            "ticks": ""
           },
           "bgcolor": "#E5ECF6",
           "caxis": {
            "gridcolor": "white",
            "linecolor": "white",
            "ticks": ""
           }
          },
          "title": {
           "x": 0.05
          },
          "xaxis": {
           "automargin": true,
           "gridcolor": "white",
           "linecolor": "white",
           "ticks": "",
           "title": {
            "standoff": 15
           },
           "zerolinecolor": "white",
           "zerolinewidth": 2
          },
          "yaxis": {
           "automargin": true,
           "gridcolor": "white",
           "linecolor": "white",
           "ticks": "",
           "title": {
            "standoff": 15
           },
           "zerolinecolor": "white",
           "zerolinewidth": 2
          }
         }
        },
        "title": {
         "text": "Weekly Streams of Artist songs in the Top 100 for Morgan Wallen on Spotify"
        },
        "xaxis": {
         "anchor": "y",
         "domain": [
          0,
          1
         ],
         "rangeslider": {
          "visible": true
         },
         "title": {
          "text": "Week"
         }
        },
        "yaxis": {
         "anchor": "x",
         "domain": [
          0,
          1
         ],
         "title": {
          "text": "Streams per Week"
         }
        }
       }
      }
     },
     "metadata": {},
     "output_type": "display_data"
    }
   ],
   "source": [
    "Spotify_Chart_Maker(\"Morgan Wallen\")"
   ]
  }
 ],
 "metadata": {
  "kernelspec": {
   "display_name": "base",
   "language": "python",
   "name": "python3"
  },
  "language_info": {
   "codemirror_mode": {
    "name": "ipython",
    "version": 3
   },
   "file_extension": ".py",
   "mimetype": "text/x-python",
   "name": "python",
   "nbconvert_exporter": "python",
   "pygments_lexer": "ipython3",
   "version": "3.11.4"
  },
  "orig_nbformat": 4
 },
 "nbformat": 4,
 "nbformat_minor": 2
}
